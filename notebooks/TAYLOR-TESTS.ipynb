{
 "cells": [
  {
   "cell_type": "markdown",
   "id": "99e7d872-b983-48bf-8776-0a66a7ebe26d",
   "metadata": {},
   "source": [
    "# Taylor tests\n",
    "\n",
    "It is good practice to check the derivatives formula with Taylor tests. For a given $C^1$ function, the first order Taylor expansion reads \n",
    "\n",
    "$$ f(x+h) = f(x) + df(x) h + O(h^2) $$\n",
    "\n",
    "So the Taylor remainder $ \\mathcal R(x,h) = f(x+h) - f(x) - df(x) h $ should decrease quadratically with $h$."
   ]
  },
  {
   "cell_type": "code",
   "execution_count": 1,
   "id": "da8b8758",
   "metadata": {},
   "outputs": [],
   "source": [
    "from shapeOptInductor import gen_mesh2, Id\n",
    "import ngsolve as ngs\n",
    "from ngsolve.webgui import Draw\n",
    "import numpy as np\n",
    "import matplotlib.pyplot as plt\n"
   ]
  },
  {
   "cell_type": "markdown",
   "id": "cdc1f4c9",
   "metadata": {},
   "source": [
    "## 1 - Geometry and meshing\n",
    "\n",
    "We test our expression of shape gradient on the four control points."
   ]
  },
  {
   "cell_type": "code",
   "execution_count": null,
   "id": "a5309f75-c8d7-447b-a40d-52333cde510e",
   "metadata": {},
   "outputs": [],
   "source": [
    "airgap = 4.11e-3 * np.array([1, 1, 1, 1])\n",
    "lz = 1e-2\n",
    "s = 4\n",
    "maxh = 2e-3\n",
    "mesh = gen_mesh2(airgap, maxh)\n",
    "\n",
    "XiAir = mesh.MaterialCF({\"air\": 1})\n",
    "XiCore = mesh.MaterialCF({\"core\": 1})\n",
    "XiCoil = mesh.MaterialCF({\"coil\": 1})\n",
    "\n",
    "Draw(1 * XiAir + 2 * XiCoil + 3 * XiCore, mesh, radius=0.02)\n"
   ]
  },
  {
   "cell_type": "markdown",
   "id": "07ade2ab",
   "metadata": {},
   "source": [
    "## 2 - State problem\n",
    "\n",
    "### a) Parameters definition"
   ]
  },
  {
   "cell_type": "code",
   "execution_count": 3,
   "id": "24fe3e2a",
   "metadata": {},
   "outputs": [],
   "source": [
    "f = 5e4  # working frequency (Hz)\n",
    "omega = 2 * np.pi * f  # rad/s\n",
    "mu0 = 4e-7 * np.pi  # void permeability (H/m)\n",
    "mur = 1000  # relative permeability of iron (no unit)\n",
    "mu_iron = mur * mu0  # permeability of iron (H/m)\n",
    "delta = 0.1  # loss angle associated with the coil (rad)\n",
    "mu_coil = np.exp(-1j * delta) * mu0  # complex permeability\n",
    "nb_turn = 200  # number of turn in the coil (no unit)\n",
    "Is = 2  # source current intensity (A)\n",
    "js = nb_turn / 2 * Is / (ngs.Integrate(XiCoil, mesh)) * XiCoil  # source current density (A/m²)\n"
   ]
  },
  {
   "cell_type": "markdown",
   "id": "86ba0e5f",
   "metadata": {},
   "source": [
    "### b) Definition of the magnetic problem"
   ]
  },
  {
   "cell_type": "code",
   "execution_count": 4,
   "id": "b4565ae1",
   "metadata": {},
   "outputs": [],
   "source": [
    "def magWeakFormComplex(a, a_):\n",
    "    \"\"\"Return the complex weak form of the magnetic problem, i.e, bilinear\n",
    "    and linear forms (matrix and right-hand side after discretization, respectively)\"\"\"\n",
    "\n",
    "    # bilinear form (transmission)\n",
    "    bf = ngs.grad(a_) * 1 / mu_iron * ngs.grad(a) * ngs.dx(\"core\")\n",
    "    bf += ngs.grad(a_) * 1 / mu_coil * ngs.grad(a) * ngs.dx(\"coil\")\n",
    "    bf += ngs.grad(a_) * 1 / mu0 * ngs.grad(a) * ngs.dx(\"air\")\n",
    "\n",
    "    # linear form (source)\n",
    "    lf = a_ * js * ngs.dx(\"coil\")\n",
    "\n",
    "    return bf, lf\n",
    "\n",
    "\n",
    "def solveStateComplex(mesh):\n",
    "    \"\"\"Solve the complex magnetic state\"\"\"\n",
    "    # definition of function space\n",
    "    fes = ngs.H1(mesh, order=1, dirichlet=\"arc|segment2|domainVert\", complex=True)\n",
    "    a, a_ = fes.TnT()\n",
    "\n",
    "    # definition of weak form\n",
    "    bf, f = magWeakFormComplex(a, a_)\n",
    "    K, F = ngs.BilinearForm(fes), ngs.LinearForm(fes)\n",
    "    K += bf\n",
    "    F += f\n",
    "\n",
    "    # assembly\n",
    "    K.Assemble()\n",
    "    F.Assemble()\n",
    "\n",
    "    # solving\n",
    "    gf = ngs.GridFunction(fes)\n",
    "    Kinv = K.mat.Inverse(freedofs=fes.FreeDofs(), inverse=\"pardiso\")\n",
    "    gf.vec.data = Kinv * F.vec\n",
    "\n",
    "    return gf, Kinv  # returning Kinv speed up adjoint calculation\n"
   ]
  },
  {
   "cell_type": "markdown",
   "id": "ab0246b2",
   "metadata": {},
   "source": [
    "### c) Definition of the post-processed quantities\n",
    "\n",
    "We define the losses and inductance, with the directional derivative of their local quantities."
   ]
  },
  {
   "cell_type": "code",
   "execution_count": 5,
   "id": "5fc5d8e6",
   "metadata": {},
   "outputs": [],
   "source": [
    "def Inductance(a, mesh):\n",
    "    rel = XiAir / mu0 + XiCoil / mu_coil + XiCore / mu_iron\n",
    "    return s * lz / (Is**2) * ngs.Integrate(rel.real * ngs.Norm(ngs.grad(a)) ** 2, mesh)\n",
    "\n",
    "\n",
    "def dInductance(a, p_, mesh):\n",
    "    rel = XiAir / mu0 + XiCoil / mu_coil + XiCore / mu_iron\n",
    "    return 2 * s * lz / (Is**2) * ngs.InnerProduct(rel.real * ngs.grad(a), ngs.grad(p_)) * ngs.dx()\n",
    "\n",
    "\n",
    "def Losses(a, mesh):\n",
    "    rel = XiCoil / mu_coil\n",
    "    return s * np.pi * f * lz * ngs.Integrate(rel.imag * ngs.Norm(ngs.grad(a)) ** 2, mesh)\n",
    "\n",
    "\n",
    "def dLosses(a, p_, mesh):\n",
    "    rel = XiCoil / mu_coil\n",
    "    return 2 * s * np.pi * f * lz * ngs.InnerProduct(rel.imag * ngs.grad(a), ngs.grad(p_)) * ngs.dx()\n"
   ]
  },
  {
   "cell_type": "markdown",
   "id": "6ef7e8b1",
   "metadata": {},
   "source": [
    "## 3 - Adjoint problem\n",
    "\n",
    "The adjoint method is an efficient way to compute derivatives of PDE-constrained problems. We look for the adjoint $p_f \\in H^1(\\Omega, \\mathbb C), p_f = 0$ on the vertical symmetry axis and outer boundary, and solving for any $p^* \\in H_1(\\Omega, \\mathbb R)$\n",
    "\n",
    "$$ \\int_\\Omega \\nabla \\underline{p} \\cdot \\left( \\frac{\\chi_c}{\\underline{\\mu_f}} + \\frac{\\chi_f}{\\underline{\\mu_f}} +\\frac{\\chi_a}{\\underline{\\mu_0}}\\right)^* \\nabla p^* = f'(\\underline{a})(p^*), $$\n",
    "\n",
    "with $f'$ the directional derivative of $f$, such that $F(\\underline{a}) = \\int_\\Omega f(\\underline{a}) \\; \\mathrm{d}x$ "
   ]
  },
  {
   "cell_type": "code",
   "execution_count": 6,
   "id": "aa979b69",
   "metadata": {},
   "outputs": [],
   "source": [
    "def solveAdjoint(a0, df, Kinv):\n",
    "    \"\"\"Solve the adjoint equation for a given df\"\"\"\n",
    "    fes = a0.space\n",
    "    p, p_ = fes.TnT()\n",
    "    f = ngs.LinearForm(fes)\n",
    "    f += -1 * df(a0, p_, fes.mesh)\n",
    "    f.Assemble()\n",
    "    gf = ngs.GridFunction(fes)\n",
    "    gf.vec.data = Kinv.H * f.vec\n",
    "    return gf\n"
   ]
  },
  {
   "cell_type": "markdown",
   "id": "dc280f32",
   "metadata": {},
   "source": [
    "## 4 - Shape derivative\n",
    "\n",
    "Detailed computation will be given soon... the state and adjoint version are needed."
   ]
  },
  {
   "cell_type": "code",
   "execution_count": 7,
   "id": "ae66cd05",
   "metadata": {},
   "outputs": [],
   "source": [
    "def SDLosses(a0, p0):\n",
    "    \"\"\"Shape derivative for the losses inside the coil\"\"\"\n",
    "    mesh = a0.space.mesh\n",
    "    FESReal = ngs.VectorH1(mesh)\n",
    "    FEScomplex = ngs.VectorH1(mesh, complex=True)\n",
    "    X = FEScomplex.TestFunction()\n",
    "\n",
    "    rel = (1 / mu0) * XiAir + (1 / mu_coil) * XiCoil + (1 / mu_iron) * XiCore\n",
    "    coeff_losses = s * np.pi * f * lz * (1 / mu_coil).imag\n",
    "    dA = ngs.div(X) * Id - ngs.grad(X) - ngs.grad(X).trans\n",
    "\n",
    "    dLOmega = ngs.LinearForm(FEScomplex)\n",
    "    dLOmega += coeff_losses * ngs.InnerProduct(dA * ngs.grad(a0), ngs.grad(a0)) * ngs.dx(\"coil\")\n",
    "    dLOmega += -js * XiCoil * ngs.div(X) * p0 * ngs.dx\n",
    "    dLOmega += ngs.InnerProduct(rel * dA * ngs.grad(a0), ngs.grad(p0)) * ngs.dx\n",
    "    dLOmega.Assemble()\n",
    "\n",
    "    dJ = ngs.GridFunction(FESReal)\n",
    "    dJ.vec.FV().NumPy()[:] = np.real(dLOmega.vec.FV().NumPy()[:])\n",
    "    return dJ\n",
    "\n",
    "\n",
    "def SDInductance(a0, p0):\n",
    "    \"\"\"Shape derivative for the inductance\"\"\"\n",
    "    mesh = a0.space.mesh\n",
    "    FESReal = ngs.VectorH1(mesh)\n",
    "    FEScomplex = ngs.VectorH1(mesh, complex=True)\n",
    "    X = FEScomplex.TestFunction()\n",
    "\n",
    "    rel = (1 / mu0) * XiAir + (1 / mu_coil) * XiCoil + (1 / mu_iron) * XiCore\n",
    "    Id = ngs.CoefficientFunction((1, 0, 0, 1), dims=(2, 2))  # Identity matrix\n",
    "    coeff_induc = s * lz / (Is**2) * rel.real\n",
    "    dA = ngs.div(X) * Id - ngs.grad(X) - ngs.grad(X).trans\n",
    "\n",
    "    dLOmega = ngs.LinearForm(FEScomplex)\n",
    "    dLOmega += coeff_induc * ngs.InnerProduct(dA * ngs.grad(a0), ngs.grad(a0)) * ngs.dx\n",
    "    dLOmega += -js * ngs.div(X) * p0 * ngs.dx\n",
    "    dLOmega += ngs.InnerProduct(rel * dA * ngs.grad(a0), ngs.grad(p0)) * ngs.dx\n",
    "    dLOmega.Assemble()\n",
    "\n",
    "    dJ = ngs.GridFunction(FESReal)\n",
    "    dJ.vec.FV().NumPy()[:] = np.real(dLOmega.vec.FV().NumPy()[:])\n",
    "    return dJ\n"
   ]
  },
  {
   "cell_type": "markdown",
   "id": "673f1073",
   "metadata": {},
   "source": [
    "## 5 - Gradient\n",
    "\n",
    "Parametric gradient can be obtained by taking the scalar product of the shape derivative with a velocity field induced by the displacement of the control points."
   ]
  },
  {
   "cell_type": "code",
   "execution_count": 8,
   "id": "f3a596a5",
   "metadata": {},
   "outputs": [],
   "source": [
    "from shapeOptInductor import referenceVelocity\n",
    "\n",
    "\n",
    "def shapeGrad(a0, p0, dJ):\n",
    "    v11, v12, v21, v22 = referenceVelocity(a0.space.mesh)\n",
    "    dJlf = dJ(a0, p0)\n",
    "    FES = ngs.VectorH1(a0.space.mesh)\n",
    "    dJ = ngs.GridFunction(FES)\n",
    "    dJ.vec.FV().NumPy()[:] = np.real(dJlf.vec.FV().NumPy()[:])\n",
    "    g11 = ngs.InnerProduct(dJ.vec, v11.vec)\n",
    "    g12 = ngs.InnerProduct(dJ.vec, v12.vec)\n",
    "    g21 = ngs.InnerProduct(dJ.vec, v21.vec)\n",
    "    g22 = ngs.InnerProduct(dJ.vec, v22.vec)\n",
    "    return g11, g12, g21, g22\n"
   ]
  },
  {
   "cell_type": "markdown",
   "id": "0fb9e13c",
   "metadata": {},
   "source": [
    "## 6 - Taylor tests\n",
    "\n",
    "The expressions are correct if the decrease of Taylor remainder is quadratic."
   ]
  },
  {
   "cell_type": "code",
   "execution_count": 9,
   "id": "16cbc95a",
   "metadata": {},
   "outputs": [],
   "source": [
    "nTest = 0  # 0 : inductance, 1 : losses\n"
   ]
  },
  {
   "cell_type": "code",
   "execution_count": 10,
   "id": "90af7ea3",
   "metadata": {},
   "outputs": [],
   "source": [
    "H = np.logspace(-8, -3, 10)\n",
    "\n",
    "# unperturbed computation\n",
    "airgap = 4.11e-3 * np.array([1, 1, 1, 1])\n",
    "mesh = gen_mesh2(airgap, maxh)\n",
    "a0, Kinv = solveStateComplex(mesh)\n",
    "\n",
    "if nTest == 0:\n",
    "    f, df, SDf = Inductance, dInductance, SDInductance\n",
    "elif nTest == 1:\n",
    "    f, df, SDf = Losses, dLosses, SDLosses\n",
    "\n",
    "F0 = f(a0, mesh)\n",
    "p0 = solveAdjoint(a0, df, Kinv)\n",
    "dF = shapeGrad(a0, p0, SDf)\n",
    "H = np.logspace(-8, -2, 10)\n",
    "\n",
    "# perturbed computations\n",
    "v11, v12, v21, v22 = referenceVelocity(mesh)\n",
    "Fh11, Fh12, Fh21, Fh22 = [], [], [], []\n",
    "Def = ngs.GridFunction(ngs.VectorH1(mesh))\n",
    "\n",
    "for h in H:\n",
    "    ## g11\n",
    "    Def.Set(v11 * h)\n",
    "    mesh.SetDeformation(Def)\n",
    "    a, _ = solveStateComplex(mesh)\n",
    "    Fh11.append(f(a, mesh))\n",
    "    ## g12\n",
    "    Def.Set(v12 * h)\n",
    "    mesh.SetDeformation(Def)\n",
    "    a, _ = solveStateComplex(mesh)\n",
    "    Fh12.append(f(a, mesh))\n",
    "    ## g21\n",
    "    Def.Set(v21 * h)\n",
    "    mesh.SetDeformation(Def)\n",
    "    a, _ = solveStateComplex(mesh)\n",
    "    Fh21.append(f(a, mesh))\n",
    "    ## g22\n",
    "    Def.Set(v22 * h)\n",
    "    mesh.SetDeformation(Def)\n",
    "    a, _ = solveStateComplex(mesh)\n",
    "    Fh22.append(f(a, mesh))\n",
    "mesh.UnsetDeformation()\n"
   ]
  },
  {
   "cell_type": "code",
   "execution_count": 11,
   "id": "71c524ff",
   "metadata": {},
   "outputs": [],
   "source": [
    "# Computation of Taylor remainder\n",
    "\n",
    "TR11 = np.array(Fh11) - F0 - dF[0] * H\n",
    "TR12 = np.array(Fh12) - F0 - dF[1] * H\n",
    "TR21 = np.array(Fh21) - F0 - dF[2] * H\n",
    "TR22 = np.array(Fh22) - F0 - dF[3] * H\n"
   ]
  },
  {
   "cell_type": "code",
   "execution_count": null,
   "id": "dc563d0b",
   "metadata": {},
   "outputs": [],
   "source": [
    "# Display\n",
    "\n",
    "plt.loglog(H, TR11, \"-o\", label=\"TR11\")\n",
    "plt.xlabel(\"h\")\n",
    "plt.loglog(H, TR12, \"-o\", label=\"TR12\")\n",
    "plt.loglog(H, TR21, \"-o\", label=\"TR21\")\n",
    "plt.ylabel(\"Taylor remainder\")\n",
    "plt.loglog(H, TR22, \"-o\", label=\"TR22\")\n",
    "plt.loglog(H, H**2, \"--\", label=\"$h^2$\")\n",
    "plt.legend()\n",
    "plt.show()\n"
   ]
  }
 ],
 "metadata": {
  "kernelspec": {
   "display_name": "base",
   "language": "python",
   "name": "python3"
  },
  "language_info": {
   "codemirror_mode": {
    "name": "ipython",
    "version": 3
   },
   "file_extension": ".py",
   "mimetype": "text/x-python",
   "name": "python",
   "nbconvert_exporter": "python",
   "pygments_lexer": "ipython3",
   "version": "3.12.7"
  }
 },
 "nbformat": 4,
 "nbformat_minor": 5
}
