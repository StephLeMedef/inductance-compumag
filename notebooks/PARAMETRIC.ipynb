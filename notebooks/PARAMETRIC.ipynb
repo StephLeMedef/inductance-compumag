{
 "cells": [
  {
   "cell_type": "markdown",
   "id": "99e7d872-b983-48bf-8776-0a66a7ebe26d",
   "metadata": {},
   "source": [
    "# Parametric optimization - inductor"
   ]
  },
  {
   "cell_type": "code",
   "execution_count": null,
   "id": "da8b8758",
   "metadata": {},
   "outputs": [],
   "source": [
    "from shapeOptInductor import gen_mesh2, Id\n",
    "import ngsolve as ngs\n",
    "from ngsolve.webgui import Draw\n",
    "import numpy as np\n",
    "import matplotlib.pyplot as plt"
   ]
  },
  {
   "cell_type": "markdown",
   "id": "cdc1f4c9",
   "metadata": {},
   "source": [
    "## 1 - Geometry and meshing\n",
    "\n",
    "We define a geometry with 4 control points on the airgap."
   ]
  },
  {
   "cell_type": "code",
   "execution_count": null,
   "id": "a5309f75-c8d7-447b-a40d-52333cde510e",
   "metadata": {},
   "outputs": [],
   "source": [
    "airgap = 4.11e-3 * np.array([1, 1, 1, 1])\n",
    "lz = 1e-2  # thickness in the z-direction (m)\n",
    "s = 4  # symmetry factor\n",
    "\n",
    "maxh = 2e-3\n",
    "mesh = gen_mesh2(airgap, maxh)\n",
    "\n",
    "XiAir = mesh.MaterialCF({\"air\": 1})\n",
    "XiCore = mesh.MaterialCF({\"core\": 1})\n",
    "XiCoil = mesh.MaterialCF({\"coil\": 1})\n",
    "\n",
    "Draw(1 * XiAir + 2 * XiCoil + 3 * XiCore, mesh, radius=0.02)"
   ]
  },
  {
   "cell_type": "markdown",
   "id": "07ade2ab",
   "metadata": {},
   "source": [
    "## 2 - State problem\n",
    "\n",
    "### a) Parameters definition"
   ]
  },
  {
   "cell_type": "code",
   "execution_count": null,
   "id": "aa4e1eda-f7a4-4a2d-8db8-b6b2b8185876",
   "metadata": {},
   "outputs": [],
   "source": [
    "f = 5e4  # working frequency (Hz)\n",
    "omega = 2 * np.pi * f  # rad/s\n",
    "mu0 = 4e-7 * np.pi  # void permeability (H/m)\n",
    "mur = 1000  # relative permeability of iron (no unit)\n",
    "mu_iron = mur * mu0  # permeability of iron (H/m)\n",
    "delta = 0.1  # loss angle associated with the coil (rad)\n",
    "mu_coil = np.exp(-1j * delta) * mu0  # complex permeability\n",
    "nb_turn = 200  # number of turn in the coil (no unit)\n",
    "Is = 2  # source current intensity (A)\n",
    "js = nb_turn / 2 * Is / (ngs.Integrate(XiCoil, mesh)) * XiCoil  # source current density (A/m²)"
   ]
  },
  {
   "cell_type": "markdown",
   "id": "0b40cb03",
   "metadata": {},
   "source": [
    "### b) Definition of the magnetic problem"
   ]
  },
  {
   "cell_type": "code",
   "execution_count": null,
   "id": "dfebbfd6",
   "metadata": {},
   "outputs": [],
   "source": [
    "def magWeakFormComplex(a, a_):\n",
    "    \"\"\"Return the complex weak form of the magnetic problem, i.e, bilinear\n",
    "    and linear forms (matrix and right-hand side after discretization, respectively)\"\"\"\n",
    "\n",
    "    # bilinear form (transmission)\n",
    "    bf = ngs.grad(a_) * 1 / mu_iron * ngs.grad(a) * ngs.dx(\"core\")\n",
    "    bf += ngs.grad(a_) * 1 / mu_coil * ngs.grad(a) * ngs.dx(\"coil\")\n",
    "    bf += ngs.grad(a_) * 1 / mu0 * ngs.grad(a) * ngs.dx(\"air\")\n",
    "\n",
    "    # linear form (source)\n",
    "    lf = a_ * js * ngs.dx(\"coil\")\n",
    "\n",
    "    return bf, lf\n",
    "\n",
    "\n",
    "def solveStateComplex(mesh):\n",
    "    \"\"\"Solve the complex magnetic state\"\"\"\n",
    "    # definition of function space\n",
    "    fes = ngs.H1(mesh, order=1, dirichlet=\"arc|segment2|domainVert\", complex=True)\n",
    "    a, a_ = fes.TnT()\n",
    "\n",
    "    # definition of weak form\n",
    "    bf, f = magWeakFormComplex(a, a_)\n",
    "    K, F = ngs.BilinearForm(fes), ngs.LinearForm(fes)\n",
    "    K += bf\n",
    "    F += f\n",
    "\n",
    "    # assembly\n",
    "    K.Assemble()\n",
    "    F.Assemble()\n",
    "\n",
    "    # solving\n",
    "    gf = ngs.GridFunction(fes)\n",
    "    Kinv = K.mat.Inverse(freedofs=fes.FreeDofs(), inverse=\"pardiso\")\n",
    "    gf.vec.data = Kinv * F.vec\n",
    "\n",
    "    return gf, Kinv  # returning Kinv speed up adjoint calculation"
   ]
  },
  {
   "cell_type": "markdown",
   "id": "a79e72fe",
   "metadata": {},
   "source": [
    "### c) Definition of the post-processed quantities\n",
    "\n",
    "We define the losses and inductance, with the directional derivative of their local quantities."
   ]
  },
  {
   "cell_type": "code",
   "execution_count": null,
   "id": "5fc5d8e6",
   "metadata": {},
   "outputs": [],
   "source": [
    "def Inductance(a, mesh):\n",
    "    rel = XiAir / mu0 + XiCoil / mu_coil + XiCore / mu_iron\n",
    "    return s * lz / (Is**2) * ngs.Integrate(rel.real * ngs.Norm(ngs.grad(a)) ** 2, mesh)\n",
    "\n",
    "\n",
    "def dInductance(a, p_, mesh):\n",
    "    rel = XiAir / mu0 + XiCoil / mu_coil + XiCore / mu_iron\n",
    "    return 2 * s * lz / (Is**2) * ngs.InnerProduct(rel.real * ngs.grad(a), ngs.grad(p_)) * ngs.dx()\n",
    "\n",
    "\n",
    "def Losses(a, mesh):\n",
    "    rel = XiCoil / mu_coil\n",
    "    return s * np.pi * f * lz * ngs.Integrate(rel.imag * ngs.Norm(ngs.grad(a)) ** 2, mesh)\n",
    "\n",
    "\n",
    "def dLosses(a, p_, mesh):\n",
    "    rel = XiCoil / mu_coil\n",
    "    return 2 * s * np.pi * f * lz * ngs.InnerProduct(rel.imag * ngs.grad(a), ngs.grad(p_)) * ngs.dx()"
   ]
  },
  {
   "cell_type": "markdown",
   "id": "61b6e2c9",
   "metadata": {},
   "source": [
    "## 3 - Adjoint problem"
   ]
  },
  {
   "cell_type": "code",
   "execution_count": null,
   "id": "770a9678",
   "metadata": {},
   "outputs": [],
   "source": [
    "def solveAdjoint(a0, df, Kinv):\n",
    "    \"\"\"Solve the adjoint equation for a given df\"\"\"\n",
    "    fes = a0.space\n",
    "    p, p_ = fes.TnT()\n",
    "    f = ngs.LinearForm(fes)\n",
    "    f += -1 * df(a0, p_, fes.mesh)\n",
    "    f.Assemble()\n",
    "    gf = ngs.GridFunction(fes)\n",
    "    gf.vec.data = Kinv.H * f.vec\n",
    "    return gf"
   ]
  },
  {
   "cell_type": "markdown",
   "id": "7d259f4c",
   "metadata": {},
   "source": [
    "## 4 - Shape derivative"
   ]
  },
  {
   "cell_type": "code",
   "execution_count": null,
   "id": "0a1c5c93",
   "metadata": {},
   "outputs": [],
   "source": [
    "def SDLosses(a0, p0):\n",
    "    \"\"\"Shape derivative for the losses inside the coil\"\"\"\n",
    "    mesh = a0.space.mesh\n",
    "    FESReal = ngs.VectorH1(mesh)\n",
    "    FEScomplex = ngs.VectorH1(mesh, complex=True)\n",
    "    X = FEScomplex.TestFunction()\n",
    "\n",
    "    rel = (1 / mu0) * XiAir + (1 / mu_coil) * XiCoil + (1 / mu_iron) * XiCore\n",
    "    coeff_losses = s * np.pi * lz * (1 / mu_coil).imag\n",
    "    dA = ngs.div(X) * Id - ngs.grad(X) - ngs.grad(X).trans\n",
    "\n",
    "    dLOmega = ngs.LinearForm(FEScomplex)\n",
    "    dLOmega += coeff_losses * ngs.InnerProduct(dA * ngs.grad(a0), ngs.grad(a0)) * ngs.dx(\"coil\")\n",
    "    dLOmega += -js * XiCoil * ngs.div(X) * p0 * ngs.dx\n",
    "    dLOmega += ngs.InnerProduct(rel * dA * ngs.grad(a0), ngs.grad(p0)) * ngs.dx\n",
    "    dLOmega.Assemble()\n",
    "\n",
    "    dJ = ngs.GridFunction(FESReal)\n",
    "    dJ.vec.FV().NumPy()[:] = np.real(dLOmega.vec.FV().NumPy()[:])\n",
    "    return dJ\n",
    "\n",
    "\n",
    "def SDInductance(a0, p0):\n",
    "    \"\"\"Shape derivative for the inductance\"\"\"\n",
    "    mesh = a0.space.mesh\n",
    "    FESReal = ngs.VectorH1(mesh)\n",
    "    FEScomplex = ngs.VectorH1(mesh, complex=True)\n",
    "    X = FEScomplex.TestFunction()\n",
    "\n",
    "    rel = (1 / mu0) * XiAir + (1 / mu_coil) * XiCoil + (1 / mu_iron) * XiCore\n",
    "    Id = ngs.CoefficientFunction((1, 0, 0, 1), dims=(2, 2))  # Identity matrix\n",
    "    coeff_induc = s * lz / (Is**2) * rel.real\n",
    "    dA = ngs.div(X) * Id - ngs.grad(X) - ngs.grad(X).trans\n",
    "\n",
    "    dLOmega = ngs.LinearForm(FEScomplex)\n",
    "    dLOmega += coeff_induc * ngs.InnerProduct(dA * ngs.grad(a0), ngs.grad(a0)) * ngs.dx\n",
    "    dLOmega += -js * ngs.div(X) * p0 * ngs.dx\n",
    "    dLOmega += ngs.InnerProduct(rel * dA * ngs.grad(a0), ngs.grad(p0)) * ngs.dx\n",
    "    dLOmega.Assemble()\n",
    "\n",
    "    dJ = ngs.GridFunction(FESReal)\n",
    "    dJ.vec.FV().NumPy()[:] = np.real(dLOmega.vec.FV().NumPy()[:])\n",
    "    return dJ"
   ]
  },
  {
   "cell_type": "markdown",
   "id": "0f8c67f0",
   "metadata": {},
   "source": [
    "### Gradient"
   ]
  },
  {
   "cell_type": "code",
   "execution_count": null,
   "id": "a6f5fac6",
   "metadata": {},
   "outputs": [],
   "source": [
    "from shapeOptInductor import referenceVelocity\n",
    "\n",
    "\n",
    "def shapeGrad(a0, p0, dJ):\n",
    "    v11, v12, v21, v22 = referenceVelocity(a0.space.mesh)\n",
    "    dJlf = dJ(a0, p0)\n",
    "    FES = ngs.VectorH1(a0.space.mesh)\n",
    "    dJ = ngs.GridFunction(FES)\n",
    "    dJ.vec.FV().NumPy()[:] = np.real(dJlf.vec.FV().NumPy()[:])\n",
    "    g11 = ngs.InnerProduct(dJ.vec, v11.vec)\n",
    "    g12 = ngs.InnerProduct(dJ.vec, v12.vec)\n",
    "    g21 = ngs.InnerProduct(dJ.vec, v21.vec)\n",
    "    g22 = ngs.InnerProduct(dJ.vec, v22.vec)\n",
    "    return g11, g12, g21, g22"
   ]
  },
  {
   "cell_type": "markdown",
   "id": "6ef7e8b1",
   "metadata": {},
   "source": [
    "## 3 - Optimization\n",
    "\n",
    "### a) Optimization algorithm\n",
    "We use an augmented Lagrangian algorithm (saddle point problem) : we maximize with respect to a Lagrange multiplier $l$ a sequence of inner minimization problem with respect to the optimization variables $e$ :\n",
    "\n",
    "$$ \\mathcal L(e,\\lambda) = P(e) + \\lambda (L(e) - L_0) + \\frac{\\beta}{2} (L(e) - L_0)^2 $$"
   ]
  },
  {
   "cell_type": "code",
   "execution_count": null,
   "id": "aa979b69",
   "metadata": {},
   "outputs": [],
   "source": [
    "# augmented lagrangian\n",
    "L_target = 1e-3\n",
    "\n",
    "\n",
    "def innerMinimization(airgap, lam, beta, alpha, n_max=50, alpha_min=1e-5, scale=1e4):\n",
    "    n = 0\n",
    "    airgapMin = 1e-4\n",
    "    airgapMax = 1.49e-2\n",
    "    mesh = gen_mesh2(airgap, maxh=maxh)\n",
    "    a, Kinv = solveStateComplex(mesh)\n",
    "    loss = Losses(a, mesh)\n",
    "    ind = Inductance(a, mesh)\n",
    "    objectiveHistory = [loss + lam * (scale * (ind - L_target)) + beta / 2 * (scale * (ind - L_target)) ** 2]\n",
    "    constraintHistory = [ind - L_target]\n",
    "    airgapHistory = [airgap.copy()]\n",
    "    inductanceHistory = [ind]\n",
    "    lossesHistory = [loss]\n",
    "    while n < n_max and alpha > alpha_min:\n",
    "        mesh = gen_mesh2(airgap, maxh=maxh)\n",
    "        # 1) state computation :\n",
    "        a, Kinv = solveStateComplex(mesh)\n",
    "\n",
    "        # 2) adjoint computation :\n",
    "        pInd = solveAdjoint(a, dInductance, Kinv)\n",
    "        pLos = solveAdjoint(a, dLosses, Kinv)\n",
    "\n",
    "        # 3) gradient evaluation :\n",
    "        gradient = np.array(shapeGrad(a, pLos, SDLosses))\n",
    "        gradient += lam * scale * np.array(shapeGrad(a, pInd, SDInductance))\n",
    "        gradient += beta * scale**2 * (Inductance(a, mesh) - L_target) * np.array(shapeGrad(a, pInd, SDInductance))\n",
    "\n",
    "        # 4) update :\n",
    "        airgapTest = airgap - alpha * gradient / np.linalg.norm(gradient)\n",
    "        n += 1\n",
    "\n",
    "        # 5) projection :\n",
    "        airgapTest[airgapTest < airgapMin] = airgapMin\n",
    "        airgapTest[airgapTest > airgapMax] = airgapMax\n",
    "\n",
    "        # 6) basic step control :\n",
    "        meshTest = gen_mesh2(airgapTest, maxh=maxh)\n",
    "        a_test, _ = solveStateComplex(meshTest)\n",
    "        loss = Losses(a_test, mesh)\n",
    "        ind = Inductance(a_test, mesh)\n",
    "        objectiveHistory.append(loss + lam * scale * (ind - L_target) + beta / 2 * (scale * (ind - L_target)) ** 2)\n",
    "        constraintHistory.append(ind - L_target)\n",
    "        inductanceHistory.append(ind)\n",
    "        lossesHistory.append(loss)\n",
    "\n",
    "        print(\n",
    "            f\"it n°{n} | f = {objectiveHistory[-1] :.5e} | L = {inductanceHistory[-1]:.5e} | P = {lossesHistory[-1]:.5e} | step = {alpha : .2e}\"\n",
    "        )\n",
    "\n",
    "        if objectiveHistory[-1] >= objectiveHistory[-2]:\n",
    "            alpha = alpha / 2\n",
    "            objectiveHistory.pop()\n",
    "            constraintHistory.pop()\n",
    "            inductanceHistory.pop()\n",
    "            lossesHistory.pop()\n",
    "        elif objectiveHistory[-1] < objectiveHistory[-2]:\n",
    "            alpha = alpha * 1.2\n",
    "            airgap = airgapTest\n",
    "            airgapHistory.append(airgap)\n",
    "    return airgap, alpha, objectiveHistory, constraintHistory, lossesHistory, inductanceHistory, airgapHistory"
   ]
  },
  {
   "cell_type": "markdown",
   "id": "b5a08135",
   "metadata": {},
   "source": [
    "### b) Optimization Loop"
   ]
  },
  {
   "cell_type": "code",
   "execution_count": null,
   "id": "1f9a82e5",
   "metadata": {},
   "outputs": [],
   "source": [
    "## Initialisation\n",
    "lam = 0\n",
    "scale = 1e3\n",
    "beta = 500  # Coefficient de pénalisation (à faire varier)\n",
    "alpha = 1e-3 / 2  # Pas initial\n",
    "airgap = 4.11e-3 * np.array([1, 1, 1, 1])\n",
    "\n",
    "alpha_min = 1e-7  # Pas minimal\n",
    "N_max = 20  # Nombre d'itérations de l'algorithme d'optimisation\n",
    "n_max = 20\n",
    "\n",
    "ConstList = []\n",
    "LagrList = []\n",
    "lamList = [lam]\n",
    "LossList = []\n",
    "InductanceList = []\n",
    "AirgapList = []\n",
    "N = 0\n",
    "while N < N_max:\n",
    "    airgap, alpha, lagrList, constList, lossList, inductanceList, airgapList = innerMinimization(\n",
    "        airgap, lam, beta, alpha=2 * alpha, n_max=n_max, alpha_min=alpha_min, scale=scale\n",
    "    )\n",
    "    lam += beta * constList[-1]\n",
    "    print(f\"{lam = }\")\n",
    "    lamList.append(lam)\n",
    "    LagrList += lagrList\n",
    "    ConstList += constList\n",
    "    LossList += lossList\n",
    "    InductanceList += inductanceList\n",
    "    AirgapList += airgapList\n",
    "    N += 1"
   ]
  },
  {
   "cell_type": "code",
   "execution_count": null,
   "id": "5ca142a9",
   "metadata": {},
   "outputs": [],
   "source": [
    "# Display convergence\n",
    "\n",
    "ax1 = plt.plot(LossList, color=\"b\")\n",
    "plt.ylabel(\"Losses (W)\", color=\"b\")\n",
    "plt.xlabel(\"Itérations\")\n",
    "ax2 = plt.gca().twinx()\n",
    "ax2.plot(InductanceList, color=\"r\")\n",
    "plt.ylabel(\"Inductance (H)\", color=\"r\")\n",
    "plt.show()"
   ]
  },
  {
   "cell_type": "code",
   "execution_count": null,
   "id": "e918ca75",
   "metadata": {},
   "outputs": [],
   "source": [
    "print(f\"It : {len(InductanceList)} | P = {LossList[-1]:.2f} W | L = {InductanceList[-1]*1e3 :.2f} mH \")"
   ]
  }
 ],
 "metadata": {
  "kernelspec": {
   "display_name": "ngsolve-env",
   "language": "python",
   "name": "python3"
  },
  "language_info": {
   "codemirror_mode": {
    "name": "ipython",
    "version": 3
   },
   "file_extension": ".py",
   "mimetype": "text/x-python",
   "name": "python",
   "nbconvert_exporter": "python",
   "pygments_lexer": "ipython3"
  }
 },
 "nbformat": 4,
 "nbformat_minor": 5
}
