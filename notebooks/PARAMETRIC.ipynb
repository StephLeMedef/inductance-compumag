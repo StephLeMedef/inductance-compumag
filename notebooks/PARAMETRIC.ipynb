{
 "cells": [
  {
   "cell_type": "markdown",
   "id": "99e7d872-b983-48bf-8776-0a66a7ebe26d",
   "metadata": {},
   "source": [
    "# Parametric optimization -- inductor"
   ]
  },
  {
   "cell_type": "code",
<<<<<<< Updated upstream
   "execution_count": null,
=======
   "execution_count": 45,
>>>>>>> Stashed changes
   "id": "da8b8758",
   "metadata": {},
   "outputs": [],
   "source": [
    "# donner un pipfile pour la config\n",
    "\n",
    "from shapeOptInductor import create_plots, update_plots, rot, gen_mesh2, Id  # noqa: F401\n",
    "import ngsolve as ngs\n",
    "from ngsolve.webgui import Draw\n",
    "import numpy as np\n",
    "import matplotlib.pyplot as plt"
   ]
  },
  {
   "cell_type": "markdown",
   "id": "cdc1f4c9",
   "metadata": {},
   "source": [
    "## 1 - Geometry and meshing"
   ]
  },
  {
   "cell_type": "code",
<<<<<<< Updated upstream
   "execution_count": null,
   "id": "a5309f75-c8d7-447b-a40d-52333cde510e",
   "metadata": {},
   "outputs": [],
=======
   "execution_count": 46,
   "id": "a5309f75-c8d7-447b-a40d-52333cde510e",
   "metadata": {},
   "outputs": [
    {
     "data": {
      "application/vnd.jupyter.widget-view+json": {
       "model_id": "767db33ce33243d7a4a325ac9a899535",
       "version_major": 2,
       "version_minor": 0
      },
      "text/plain": [
       "WebGuiWidget(layout=Layout(height='500px', width='100%'), value={'gui_settings': {}, 'ngsolve_version': '6.2.2…"
      ]
     },
     "metadata": {},
     "output_type": "display_data"
    },
    {
     "data": {
      "text/plain": [
       "BaseWebGuiScene"
      ]
     },
     "execution_count": 46,
     "metadata": {},
     "output_type": "execute_result"
    }
   ],
>>>>>>> Stashed changes
   "source": [
    "airgap = 4.11e-3 * np.array([1, 1, 1, 1])\n",
    "thickness = 1e-2\n",
    "\n",
    "maxh = 2e-3\n",
    "mesh = gen_mesh2(airgap, maxh)\n",
    "\n",
    "\n",
    "XiAir = mesh.MaterialCF({\"air\": 1})\n",
    "XiCore = mesh.MaterialCF({\"core\": 1})\n",
    "XiCoil = mesh.MaterialCF({\"coil\": 1})\n",
    "\n",
    "Draw(1 * XiAir + 2 * XiCoil + 3 * XiCore, mesh, radius=0.02)"
   ]
  },
  {
   "cell_type": "markdown",
   "id": "07ade2ab",
   "metadata": {},
   "source": [
    "## 2 - Computation of magnetic state"
   ]
  },
  {
   "cell_type": "code",
<<<<<<< Updated upstream
   "execution_count": null,
   "id": "aa4e1eda-f7a4-4a2d-8db8-b6b2b8185876",
   "metadata": {},
   "outputs": [],
=======
   "execution_count": 47,
   "id": "aa4e1eda-f7a4-4a2d-8db8-b6b2b8185876",
   "metadata": {},
   "outputs": [
    {
     "data": {
      "application/vnd.jupyter.widget-view+json": {
       "model_id": "2af4cf6e49c24df59dd40edf7db9b5d0",
       "version_major": 2,
       "version_minor": 0
      },
      "text/plain": [
       "WebGuiWidget(layout=Layout(height='500px', width='100%'), value={'gui_settings': {}, 'ngsolve_version': '6.2.2…"
      ]
     },
     "metadata": {},
     "output_type": "display_data"
    },
    {
     "data": {
      "text/plain": [
       "BaseWebGuiScene"
      ]
     },
     "execution_count": 47,
     "metadata": {},
     "output_type": "execute_result"
    }
   ],
>>>>>>> Stashed changes
   "source": [
    "# Frequency\n",
    "f = 5e4  # Hz\n",
    "omega = 2 * np.pi * f\n",
    "\n",
    "# Magnetic\n",
    "mu0 = 4e-7 * np.pi\n",
    "mur = 1000\n",
    "mu_iron = mur * mu0\n",
    "delta = 0.1\n",
    "mu_coil = np.exp(-1j * delta) * mu0  #  AC losses in the copper from the imaginary part of the permeability\n",
    "\n",
    "# Current\n",
    "nb_turn = 200  # Number of turn in the coil\n",
    "Is = 2  # Source current intensity\n",
    "js = nb_turn / 2 * Is / (ngs.Integrate(XiCoil, mesh)) * XiCoil  # Source current density\n",
    "\n",
    "\n",
    "def magWeakFormComplex(a, a_):\n",
    "    bf = ngs.grad(a_) * 1 / mu_iron * ngs.grad(a) * ngs.dx(\"core\")\n",
    "    bf += ngs.grad(a_) * 1 / mu_coil * ngs.grad(a) * ngs.dx(\"coil\")\n",
    "    bf += ngs.grad(a_) * 1 / mu0 * ngs.grad(a) * ngs.dx(\"air\")\n",
    "    lf = a_ * js * ngs.dx(\"coil\")\n",
    "    return bf, lf\n",
    "\n",
    "\n",
    "def solveStateComplex(mesh):\n",
    "    fes = ngs.H1(mesh, order=1, dirichlet=\"arc|segment2|domainVert\", complex=True)\n",
    "    a, a_ = fes.TnT()\n",
    "    bf, f = magWeakFormComplex(a, a_)\n",
    "    K, F = ngs.BilinearForm(fes), ngs.LinearForm(fes)\n",
    "    K += bf\n",
    "    F += f\n",
    "    K.Assemble()\n",
    "    F.Assemble()\n",
    "    gf = ngs.GridFunction(fes)\n",
    "    Kinv = K.mat.Inverse(freedofs=fes.FreeDofs(), inverse=\"pardiso\")\n",
    "    gf.vec.data = Kinv * F.vec\n",
    "    return gf, Kinv\n",
    "\n",
    "\n",
    "a, Kinv = solveStateComplex(mesh)\n",
    "Draw(ngs.Norm(a), mesh)"
   ]
  },
  {
   "cell_type": "code",
<<<<<<< Updated upstream
   "execution_count": null,
=======
   "execution_count": 48,
>>>>>>> Stashed changes
   "id": "5fc5d8e6",
   "metadata": {},
   "outputs": [],
   "source": [
    "def Inductance(a, mesh):\n",
    "    rel = XiAir / mu0 + XiCoil / mu_coil + XiCore / mu_iron\n",
    "    return 4 * thickness / (Is**2) * ngs.Integrate(rel.real * ngs.Norm(ngs.grad(a)) ** 2, mesh)\n",
    "\n",
    "\n",
    "def dInductance(a, p_, mesh):\n",
    "    rel = XiAir / mu0 + XiCoil / mu_coil + XiCore / mu_iron\n",
    "    return 2 * 4 * thickness / (Is**2) * ngs.InnerProduct(rel.real * ngs.grad(a), ngs.grad(p_)) * ngs.dx()\n",
    "\n",
    "\n",
    "def Losses(a, mesh):\n",
    "    rel = XiCoil / mu_coil\n",
    "    return 4 * omega / 2 * thickness * ngs.Integrate(rel.imag * ngs.Norm(ngs.grad(a)) ** 2, mesh)\n",
    "\n",
    "\n",
    "def dLosses(a, p_, mesh):\n",
    "    rel = XiCoil / mu_coil\n",
    "    return 2 * 4 * omega / 2 * thickness * ngs.InnerProduct(rel.imag * ngs.grad(a), ngs.grad(p_)) * ngs.dx()\n",
    "\n",
    "\n",
    "print(f\" L = {Inductance(a,mesh) * 1e6 :.2f} µH\")\n",
    "print(f\" P_AC = {Losses(a,mesh) :.2f} W\")"
   ]
  },
  {
   "cell_type": "code",
<<<<<<< Updated upstream
   "execution_count": null,
=======
   "execution_count": 49,
>>>>>>> Stashed changes
   "id": "06c63127",
   "metadata": {},
   "outputs": [],
   "source": [
    "# optim parameters\n",
    "L_target = 1e-3\n",
    "l = 0\n",
    "b = 1\n",
    "\n",
    "\n",
    "def Constraint(a, mesh):\n",
    "    return Inductance(a, mesh) - L_target\n",
    "\n",
    "\n",
    "def CostFunction(a, mesh):\n",
    "    const = Constraint(a, mesh)\n",
    "    return Losses(a, mesh) + l * const + 0.5 * b * const**2"
   ]
  },
  {
   "cell_type": "markdown",
   "id": "6ef7e8b1",
   "metadata": {},
   "source": [
    "# Adjoint"
   ]
  },
  {
   "cell_type": "code",
<<<<<<< Updated upstream
   "execution_count": null,
=======
   "execution_count": 50,
>>>>>>> Stashed changes
   "id": "aa979b69",
   "metadata": {},
   "outputs": [],
   "source": [
    "def solveAdjoint(a0, df, Kinv):\n",
    "    \"\"\"Solves the adjoint equation for a given df\"\"\"\n",
    "    fes = a0.space\n",
    "    p, p_ = fes.TnT()\n",
    "    f = ngs.LinearForm(fes)\n",
    "    f += -1 * df(a0, p_, fes.mesh)\n",
    "    f.Assemble()\n",
    "    gf = ngs.GridFunction(fes)\n",
    "    gf.vec.data = Kinv.H * f.vec\n",
    "    return gf"
   ]
  },
  {
   "cell_type": "markdown",
   "id": "dc280f32",
   "metadata": {},
   "source": [
    "## Gradient"
   ]
  },
  {
   "cell_type": "code",
<<<<<<< Updated upstream
   "execution_count": null,
=======
   "execution_count": 51,
>>>>>>> Stashed changes
   "id": "f3a596a5",
   "metadata": {},
   "outputs": [],
   "source": [
    "from shapeOptInductor import referenceVelocity\n",
    "\n",
    "v11, v12, v21, v22 = referenceVelocity(mesh)"
   ]
  },
  {
   "cell_type": "code",
<<<<<<< Updated upstream
   "execution_count": null,
=======
   "execution_count": 52,
>>>>>>> Stashed changes
   "id": "8e953ef2",
   "metadata": {},
   "outputs": [],
   "source": [
    "def SDLosses(a0, p0):\n",
    "    \"\"\"Shape derivative for the losses inside the coil\"\"\"\n",
    "    mesh = a0.space.mesh\n",
    "    FESReal = ngs.VectorH1(mesh)\n",
    "    FEScomplex = ngs.VectorH1(mesh, complex=True)\n",
    "    X = FEScomplex.TestFunction()\n",
    "\n",
    "    rel = (1 / mu0) * XiAir + (1 / mu_coil) * XiCoil + (1 / mu_iron) * XiCore\n",
    "    coeff_losses = 4 * omega / 2 * thickness * (1 / mu_coil).imag\n",
    "    dA = ngs.div(X) * Id - ngs.grad(X) - ngs.grad(X).trans\n",
    "\n",
    "    dLOmega = ngs.LinearForm(FEScomplex)\n",
    "    dLOmega += coeff_losses * ngs.InnerProduct(dA * ngs.grad(a0), ngs.grad(a0)) * ngs.dx(\"coil\")\n",
    "    dLOmega += -js * XiCoil * ngs.div(X) * p0 * ngs.dx\n",
    "    dLOmega += ngs.InnerProduct(rel * dA * ngs.grad(a0), ngs.grad(p0)) * ngs.dx\n",
    "    dLOmega.Assemble()\n",
    "\n",
    "    dJ = ngs.GridFunction(FESReal)\n",
    "    dJ.vec.FV().NumPy()[:] = np.real(dLOmega.vec.FV().NumPy()[:])\n",
    "    return dJ\n",
    "\n",
    "\n",
    "def SDInductance(a0, p0):\n",
    "    \"\"\"Shape derivative for the inductance\"\"\"\n",
    "    mesh = a0.space.mesh\n",
    "    FESReal = ngs.VectorH1(mesh)\n",
    "    FEScomplex = ngs.VectorH1(mesh, complex=True)\n",
    "    X = FEScomplex.TestFunction()\n",
    "\n",
    "    rel = (1 / mu0) * XiAir + (1 / mu_coil) * XiCoil + (1 / mu_iron) * XiCore\n",
    "    Id = ngs.CoefficientFunction((1, 0, 0, 1), dims=(2, 2))  # Identity matrix\n",
    "    coeff_induc = 4 * thickness / (Is**2) * rel.real\n",
    "    dA = ngs.div(X) * Id - ngs.grad(X) - ngs.grad(X).trans\n",
    "\n",
    "    dLOmega = ngs.LinearForm(FEScomplex)\n",
    "    dLOmega += coeff_induc * ngs.InnerProduct(dA * ngs.grad(a0), ngs.grad(a0)) * ngs.dx\n",
    "    dLOmega += -js * ngs.div(X) * p0 * ngs.dx\n",
    "    dLOmega += ngs.InnerProduct(rel * dA * ngs.grad(a0), ngs.grad(p0)) * ngs.dx\n",
    "    dLOmega.Assemble()\n",
    "\n",
    "    dJ = ngs.GridFunction(FESReal)\n",
    "    dJ.vec.FV().NumPy()[:] = np.real(dLOmega.vec.FV().NumPy()[:])\n",
    "    return dJ\n",
    "\n",
    "\n",
    "def shapeGrad(a0, p0, dJ):\n",
    "    v11, v12, v21, v22 = referenceVelocity(a0.space.mesh)\n",
    "    dJlf = dJ(a0, p0)\n",
    "    FES = ngs.VectorH1(a0.space.mesh)\n",
    "    dJ = ngs.GridFunction(FES)\n",
    "    dJ.vec.FV().NumPy()[:] = np.real(dJlf.vec.FV().NumPy()[:])\n",
    "    g11 = ngs.InnerProduct(dJ.vec, v11.vec)\n",
    "    g12 = ngs.InnerProduct(dJ.vec, v12.vec)\n",
    "    g21 = ngs.InnerProduct(dJ.vec, v21.vec)\n",
    "    g22 = ngs.InnerProduct(dJ.vec, v22.vec)\n",
    "    return g11, g12, g21, g22"
   ]
  },
  {
   "cell_type": "code",
<<<<<<< Updated upstream
   "execution_count": null,
=======
   "execution_count": 53,
>>>>>>> Stashed changes
   "id": "90af7ea3",
   "metadata": {},
   "outputs": [],
   "source": [
    "# taylor tests\n",
    "nTest = 0\n",
    "\n",
    "H = np.logspace(-8, -3, 10)\n",
    "airgap = 4.11e-3 * np.array([1, 1, 1, 1])\n",
    "maxh = 2e-3\n",
    "mesh = gen_mesh2(airgap, maxh)\n",
    "v11, v12, v21, v22 = referenceVelocity(mesh)\n",
    "\n",
    "a0, Kinv = solveStateComplex(mesh)\n",
    "\n",
    "if nTest == 0:\n",
    "    f, df, SDf = Inductance, dInductance, SDInductance\n",
    "elif nTest == 1:\n",
    "    f, df, SDf = Losses, dLosses, SDLosses\n",
    "\n",
    "F0 = f(a0, mesh)\n",
    "p0 = solveAdjoint(a0, df, Kinv)\n",
    "dF = shapeGrad(a0, p0, SDf)\n",
    "H = np.logspace(-8, -2, 10)\n",
    "Fh11, Fh12, Fh21, Fh22 = [], [], [], []\n",
    "\n",
    "Def = ngs.GridFunction(ngs.VectorH1(mesh))\n",
    "\n",
    "for h in H:\n",
    "    ## g11\n",
    "    Def.Set(v11 * h)\n",
    "    mesh.SetDeformation(Def)\n",
    "    a, _ = solveStateComplex(mesh)\n",
    "    Fh11.append(f(a, mesh))\n",
    "    ## g12\n",
    "    Def.Set(v12 * h)\n",
    "    mesh.SetDeformation(Def)\n",
    "    a, _ = solveStateComplex(mesh)\n",
    "    Fh12.append(f(a, mesh))\n",
    "    ## g21\n",
    "    Def.Set(v21 * h)\n",
    "    mesh.SetDeformation(Def)\n",
    "    a, _ = solveStateComplex(mesh)\n",
    "    Fh21.append(f(a, mesh))\n",
    "    ## g22\n",
    "    Def.Set(v22 * h)\n",
    "    mesh.SetDeformation(Def)\n",
    "    a, _ = solveStateComplex(mesh)\n",
    "    Fh22.append(f(a, mesh))"
   ]
  },
  {
   "cell_type": "code",
<<<<<<< Updated upstream
   "execution_count": null,
=======
   "execution_count": 54,
>>>>>>> Stashed changes
   "id": "dc563d0b",
   "metadata": {},
   "outputs": [],
   "source": [
    "FD11 = (np.array(Fh11) - F0) / H\n",
    "FD12 = (np.array(Fh12) - F0) / H\n",
    "FD21 = (np.array(Fh21) - F0) / H\n",
    "FD22 = (np.array(Fh22) - F0) / H\n",
    "\n",
    "\n",
    "plt.loglog(H, np.abs(FD11 - dF[0]), \"-o\", label=\"11\")\n",
    "plt.xlabel(\"h\")\n",
    "plt.loglog(H, np.abs(FD12 - dF[1]), \"-o\", label=\"12\")\n",
    "plt.loglog(H, np.abs(FD21 - dF[2]), \"-o\", label=\"21\")\n",
    "plt.ylabel(\"diff derivative\")\n",
    "plt.loglog(H, np.abs(FD22 - dF[3]), \"-o\", label=\"22\")\n",
    "plt.legend()\n",
    "plt.show()"
   ]
  },
  {
   "cell_type": "code",
<<<<<<< Updated upstream
   "execution_count": null,
=======
   "execution_count": 33,
>>>>>>> Stashed changes
   "id": "a88c2e4b",
   "metadata": {},
   "outputs": [],
   "source": [
    "# taylor tests (objective)\n",
    "\n",
    "l = 3\n",
    "b = 2\n",
    "\n",
    "H = np.logspace(-8, -3, 10)\n",
    "airgap = 4.11e-3 * np.array([1, 1, 1, 1])\n",
    "maxh = 2e-3\n",
    "mesh = gen_mesh2(airgap, maxh)\n",
    "v11, v12, v21, v22 = referenceVelocity(mesh)\n",
    "\n",
    "a0, Kinv = solveStateComplex(mesh)\n",
    "\n",
    "F0 = CostFunction(a0, mesh)  # Losses(a, mesh) + l * Constraint(a, mesh) + 0.5 * b * Constraint(a, mesh) ** 2\n",
    "pL = solveAdjoint(a0, dLosses, Kinv)\n",
    "pI = solveAdjoint(a0, dInductance, Kinv)\n",
    "\n",
    "dF = (\n",
    "    np.array(shapeGrad(a0, pL, SDLosses))\n",
    "    + l * np.array(shapeGrad(a0, pI, SDInductance))\n",
    "    + b * Constraint(a0, mesh) * np.array(shapeGrad(a0, pI, SDInductance))\n",
    ")\n",
    "H = np.logspace(-8, -2, 10)\n",
    "Fh11, Fh12, Fh21, Fh22 = [], [], [], []\n",
    "\n",
    "Def = ngs.GridFunction(ngs.VectorH1(mesh))\n",
    "\n",
    "for h in H:\n",
    "    ## g11\n",
    "    Def.Set(v11 * h)\n",
    "    mesh.SetDeformation(Def)\n",
    "    a, _ = solveStateComplex(mesh)\n",
    "    Fh11.append(CostFunction(a, mesh))\n",
    "    ## g12\n",
    "    Def.Set(v12 * h)\n",
    "    mesh.SetDeformation(Def)\n",
    "    a, _ = solveStateComplex(mesh)\n",
    "    Fh12.append(CostFunction(a, mesh))\n",
    "    ## g21\n",
    "    Def.Set(v21 * h)\n",
    "    mesh.SetDeformation(Def)\n",
    "    a, _ = solveStateComplex(mesh)\n",
    "    Fh21.append(CostFunction(a, mesh))\n",
    "    ## g22\n",
    "    Def.Set(v22 * h)\n",
    "    mesh.SetDeformation(Def)\n",
    "    a, _ = solveStateComplex(mesh)\n",
    "    Fh22.append(CostFunction(a, mesh))"
   ]
  },
  {
   "cell_type": "code",
<<<<<<< Updated upstream
   "execution_count": null,
=======
   "execution_count": 34,
>>>>>>> Stashed changes
   "id": "cabd5083",
   "metadata": {},
   "outputs": [],
   "source": [
    "FD11 = (np.array(Fh11) - F0) / H\n",
    "FD12 = (np.array(Fh12) - F0) / H\n",
    "FD21 = (np.array(Fh21) - F0) / H\n",
    "FD22 = (np.array(Fh22) - F0) / H\n",
    "\n",
    "\n",
    "plt.loglog(H, np.abs(FD11 - dF[0]), \"-o\", label=\"11\")\n",
    "plt.xlabel(\"h\")\n",
    "plt.loglog(H, np.abs(FD12 - dF[1]), \"-o\", label=\"12\")\n",
    "plt.loglog(H, np.abs(FD21 - dF[2]), \"-o\", label=\"21\")\n",
    "plt.ylabel(\"diff derivative\")\n",
    "plt.loglog(H, np.abs(FD22 - dF[3]), \"-o\", label=\"22\")\n",
    "plt.legend()\n",
    "plt.show()"
   ]
  },
  {
   "cell_type": "code",
<<<<<<< Updated upstream
   "execution_count": null,
=======
   "execution_count": 35,
>>>>>>> Stashed changes
   "id": "2d2b4371",
   "metadata": {},
   "outputs": [],
   "source": [
    "# taylor tests (Constraint)\n",
    "\n",
    "l = 3\n",
    "b = 2\n",
    "\n",
    "H = np.logspace(-8, -3, 10)\n",
    "airgap = 4.11e-3 * np.array([1, 1, 1, 1])\n",
    "maxh = 2e-3\n",
    "mesh = gen_mesh2(airgap, maxh)\n",
    "v11, v12, v21, v22 = referenceVelocity(mesh)\n",
    "\n",
    "a0, Kinv = solveStateComplex(mesh)\n",
    "\n",
    "F0 = Constraint(a0, mesh)  # Losses(a, mesh) + l * Constraint(a, mesh) + 0.5 * b * Constraint(a, mesh) ** 2\n",
    "pI = solveAdjoint(a0, dInductance, Kinv)\n",
    "\n",
    "dF = np.array(shapeGrad(a0, pI, SDInductance))\n",
    "H = np.logspace(-8, -2, 10)\n",
    "Fh11, Fh12, Fh21, Fh22 = [], [], [], []\n",
    "\n",
    "Def = ngs.GridFunction(ngs.VectorH1(mesh))\n",
    "\n",
    "for h in H:\n",
    "    ## g11\n",
    "    Def.Set(v11 * h)\n",
    "    mesh.SetDeformation(Def)\n",
    "    a, _ = solveStateComplex(mesh)\n",
    "    Fh11.append(Constraint(a, mesh))\n",
    "    ## g12\n",
    "    Def.Set(v12 * h)\n",
    "    mesh.SetDeformation(Def)\n",
    "    a, _ = solveStateComplex(mesh)\n",
    "    Fh12.append(Constraint(a, mesh))\n",
    "    ## g21\n",
    "    Def.Set(v21 * h)\n",
    "    mesh.SetDeformation(Def)\n",
    "    a, _ = solveStateComplex(mesh)\n",
    "    Fh21.append(Constraint(a, mesh))\n",
    "    ## g22\n",
    "    Def.Set(v22 * h)\n",
    "    mesh.SetDeformation(Def)\n",
    "    a, _ = solveStateComplex(mesh)\n",
    "    Fh22.append(Constraint(a, mesh))"
   ]
  },
  {
   "cell_type": "code",
<<<<<<< Updated upstream
   "execution_count": null,
=======
   "execution_count": 36,
>>>>>>> Stashed changes
   "id": "ee87b5a5",
   "metadata": {},
   "outputs": [],
   "source": [
    "FD11 = (np.array(Fh11) - F0) / H\n",
    "FD12 = (np.array(Fh12) - F0) / H\n",
    "FD21 = (np.array(Fh21) - F0) / H\n",
    "FD22 = (np.array(Fh22) - F0) / H\n",
    "\n",
    "\n",
    "plt.loglog(H, np.abs(FD11 - dF[0]), \"-o\", label=\"11\")\n",
    "plt.xlabel(\"h\")\n",
    "plt.loglog(H, np.abs(FD12 - dF[1]), \"-o\", label=\"12\")\n",
    "plt.loglog(H, np.abs(FD21 - dF[2]), \"-o\", label=\"21\")\n",
    "plt.ylabel(\"diff derivative\")\n",
    "plt.loglog(H, np.abs(FD22 - dF[3]), \"-o\", label=\"22\")\n",
    "plt.legend()\n",
    "plt.show()"
   ]
  },
  {
   "cell_type": "markdown",
   "id": "b5a08135",
   "metadata": {},
   "source": [
    "## Optimization Loop"
   ]
  },
  {
   "cell_type": "code",
<<<<<<< Updated upstream
   "execution_count": null,
=======
   "execution_count": 37,
>>>>>>> Stashed changes
   "id": "c3b805ff",
   "metadata": {},
   "outputs": [],
   "source": [
    "# augmented lagrangian\n",
    "\n",
    "\n",
    "def innerMinimization(airgap, lam, beta, alpha, n_max=50, alpha_min=1e-5, scale=1e4):\n",
    "    n = 0\n",
    "    airgapMin = 1e-4\n",
    "    airgapMax = 1.49e-2\n",
    "    mesh = gen_mesh2(airgap, maxh=maxh)\n",
    "    a, Kinv = solveStateComplex(mesh)\n",
    "    loss = Losses(a, mesh)\n",
    "    ind = Inductance(a, mesh)\n",
    "    objectiveHistory = [loss + lam * (scale * (ind - L_target)) + beta / 2 * (scale * (ind - L_target)) ** 2]\n",
    "    constraintHistory = [ind - L_target]\n",
    "    airgapHistory = [airgap.copy()]\n",
    "    inductanceHistory = [ind]\n",
    "    lossesHistory = [loss]\n",
    "    while n < n_max and alpha > alpha_min:\n",
    "        mesh = gen_mesh2(airgap, maxh=maxh)\n",
    "        # 1) Calcul de l'état physique :\n",
    "        a, Kinv = solveStateComplex(mesh)\n",
    "\n",
    "        # 2) Calcul de l'état adjoint :\n",
    "        pInd = solveAdjoint(a, dInductance, Kinv)\n",
    "        pLos = solveAdjoint(a, dLosses, Kinv)\n",
    "\n",
    "        # 3) Calcul du gradient :\n",
    "        gradient = np.array(shapeGrad(a, pLos, SDLosses))\n",
    "        gradient += lam * scale * np.array(shapeGrad(a, pInd, SDInductance))\n",
    "        gradient += beta * scale**2 * (Inductance(a, mesh) - L_target) * np.array(shapeGrad(a, pInd, SDInductance))\n",
    "\n",
    "        # 4) Mise à jour :\n",
    "        airgapTest = airgap - alpha * gradient / np.linalg.norm(gradient)\n",
    "        n += 1\n",
    "\n",
    "        # 5) Projection :\n",
    "        airgapTest[airgapTest < airgapMin] = airgapMin\n",
    "        airgapTest[airgapTest > airgapMax] = airgapMax\n",
    "\n",
    "        # 6) Contrôle du pas :\n",
    "        meshTest = gen_mesh2(airgapTest, maxh=maxh)\n",
    "        a_test, _ = solveStateComplex(meshTest)\n",
    "        loss = Losses(a_test, mesh)\n",
    "        ind = Inductance(a_test, mesh)\n",
    "        objectiveHistory.append(loss + lam * scale * (ind - L_target) + beta / 2 * (scale * (ind - L_target)) ** 2)\n",
    "        constraintHistory.append(ind - L_target)\n",
    "        inductanceHistory.append(ind)\n",
    "        lossesHistory.append(loss)\n",
    "\n",
    "        print(\n",
    "            f\"it n°{n} | f = {objectiveHistory[-1] :.5e} | L = {inductanceHistory[-1]:.5e} | P = {lossesHistory[-1]:.5e} | step = {alpha : .2e}\"\n",
    "        )\n",
    "\n",
    "        if objectiveHistory[-1] >= objectiveHistory[-2]:\n",
    "            alpha = alpha / 2\n",
    "            objectiveHistory.pop()\n",
    "            constraintHistory.pop()\n",
    "            inductanceHistory.pop()\n",
    "            lossesHistory.pop()\n",
    "        elif objectiveHistory[-1] < objectiveHistory[-2]:\n",
    "            alpha = alpha * 1.2\n",
    "            airgap = airgapTest\n",
    "            airgapHistory.append(airgap)\n",
    "    return airgap, alpha, objectiveHistory, constraintHistory, lossesHistory, inductanceHistory, airgapHistory"
   ]
  },
  {
   "cell_type": "code",
<<<<<<< Updated upstream
   "execution_count": null,
   "id": "1f9a82e5",
   "metadata": {},
   "outputs": [],
=======
   "execution_count": 38,
   "id": "1f9a82e5",
   "metadata": {},
   "outputs": [
    {
     "name": "stdout",
     "output_type": "stream",
     "text": [
      "it n°1 | f = 1.20883e+01 | L = 8.83194e-04 | P = 1.17472e+01 | step =  1.00e-03\n",
      "it n°2 | f = 1.08199e+01 | L = 8.65144e-04 | P = 1.03652e+01 | step =  1.20e-03\n",
      "it n°3 | f = 9.22729e+00 | L = 9.22180e-04 | P = 9.07589e+00 | step =  1.44e-03\n",
      "it n°4 | f = 8.48791e+00 | L = 1.15530e-03 | P = 7.88497e+00 | step =  1.73e-03\n",
      "it n°5 | f = 2.30183e+01 | L = 1.80135e-03 | P = 6.96432e+00 | step =  2.07e-03\n",
      "it n°6 | f = 7.84741e+00 | L = 1.15634e-03 | P = 7.23639e+00 | step =  1.04e-03\n",
      "it n°7 | f = 7.13781e+00 | L = 8.45961e-04 | P = 6.54461e+00 | step =  1.24e-03\n",
      "it n°8 | f = 7.04653e+01 | L = 2.59702e-03 | P = 6.70349e+00 | step =  1.49e-03\n",
      "it n°9 | f = 1.08822e+01 | L = 1.42360e-03 | P = 6.39629e+00 | step =  7.46e-04\n",
      "it n°10 | f = 6.68297e+00 | L = 1.10121e-03 | P = 6.42689e+00 | step =  3.73e-04\n",
      "it n°11 | f = 6.66101e+00 | L = 1.12289e-03 | P = 6.28348e+00 | step =  4.48e-04\n",
      "it n°12 | f = 6.37042e+00 | L = 8.81126e-04 | P = 6.01715e+00 | step =  5.37e-04\n",
      "it n°13 | f = 1.44903e+01 | L = 1.58090e-03 | P = 6.05425e+00 | step =  6.45e-04\n",
      "it n°14 | f = 6.58658e+00 | L = 1.15610e-03 | P = 5.97739e+00 | step =  3.22e-04\n",
      "it n°15 | f = 6.02106e+00 | L = 1.02877e-03 | P = 6.00037e+00 | step =  1.61e-04\n",
      "it n°16 | f = 6.03778e+00 | L = 1.05845e-03 | P = 5.95238e+00 | step =  1.93e-04\n",
      "it n°17 | f = 5.97544e+00 | L = 1.00191e-03 | P = 5.97535e+00 | step =  9.67e-05\n",
      "it n°18 | f = 5.91264e+00 | L = 1.00176e-03 | P = 5.91256e+00 | step =  1.16e-04\n",
      "it n°19 | f = 5.87681e+00 | L = 9.86321e-04 | P = 5.87213e+00 | step =  1.39e-04\n",
      "it n°20 | f = 5.81276e+00 | L = 9.78189e-04 | P = 5.80086e+00 | step =  1.67e-04\n",
      "lam = -0.0010905391368364005\n",
      "it n°1 | f = 6.38075e+00 | L = 1.13320e-03 | P = 5.71554e+00 | step =  4.01e-04\n",
      "it n°2 | f = 5.81565e+00 | L = 1.04415e-03 | P = 5.74258e+00 | step =  2.01e-04\n",
      "it n°3 | f = 5.82091e+00 | L = 9.32899e-04 | P = 5.65200e+00 | step =  2.41e-04\n",
      "it n°4 | f = 5.73719e+00 | L = 9.61913e-04 | P = 5.68275e+00 | step =  1.20e-04\n",
      "it n°5 | f = 5.72586e+00 | L = 1.03978e-03 | P = 5.66655e+00 | step =  1.44e-04\n",
      "it n°6 | f = 5.66476e+00 | L = 9.51347e-04 | P = 5.57594e+00 | step =  1.73e-04\n",
      "it n°7 | f = 6.23670e+00 | L = 1.13362e-03 | P = 5.56732e+00 | step =  2.08e-04\n",
      "it n°8 | f = 5.65610e+00 | L = 1.04610e-03 | P = 5.57648e+00 | step =  1.04e-04\n",
      "it n°9 | f = 5.54933e+00 | L = 9.69412e-04 | P = 5.51421e+00 | step =  1.25e-04\n",
      "it n°10 | f = 5.53789e+00 | L = 1.03182e-03 | P = 5.49996e+00 | step =  1.50e-04\n",
      "it n°11 | f = 5.52615e+00 | L = 9.45907e-04 | P = 5.41636e+00 | step =  1.80e-04\n",
      "it n°12 | f = 6.90617e+00 | L = 1.19885e-03 | P = 5.42363e+00 | step =  2.16e-04\n",
      "it n°13 | f = 5.57322e+00 | L = 1.06701e-03 | P = 5.40491e+00 | step =  1.08e-04\n",
      "it n°14 | f = 5.41080e+00 | L = 1.00956e-03 | P = 5.40739e+00 | step =  5.39e-05\n",
      "it n°15 | f = 5.40855e+00 | L = 1.01217e-03 | P = 5.40300e+00 | step =  6.47e-05\n",
      "it n°16 | f = 5.39608e+00 | L = 9.80025e-04 | P = 5.38109e+00 | step =  7.76e-05\n",
      "it n°17 | f = 5.35175e+00 | L = 9.83153e-04 | P = 5.34108e+00 | step =  9.32e-05\n",
      "it n°18 | f = 5.32228e+00 | L = 9.80296e-04 | P = 5.30770e+00 | step =  1.12e-04\n",
      "it n°19 | f = 5.26796e+00 | L = 9.93257e-04 | P = 5.26625e+00 | step =  1.34e-04\n",
      "it n°20 | f = 5.24039e+00 | L = 9.69932e-04 | P = 5.20646e+00 | step =  1.61e-04\n",
      "lam = -0.0033456263762188755\n",
      "it n°1 | f = 4.24923e+01 | L = 1.81101e-03 | P = 5.49772e+00 | step =  3.86e-04\n",
      "it n°2 | f = 8.18185e+00 | L = 1.22802e-03 | P = 5.25805e+00 | step =  1.93e-04\n",
      "it n°3 | f = 5.73053e+00 | L = 1.09576e-03 | P = 5.21501e+00 | step =  9.66e-05\n",
      "it n°4 | f = 5.28038e+00 | L = 1.03132e-03 | P = 5.22529e+00 | step =  4.83e-05\n",
      "it n°5 | f = 5.21300e+00 | L = 1.00900e-03 | P = 5.20848e+00 | step =  2.41e-05\n",
      "it n°6 | f = 5.22083e+00 | L = 1.01056e-03 | P = 5.21460e+00 | step =  2.90e-05\n",
      "it n°7 | f = 5.22453e+00 | L = 9.87129e-04 | P = 5.21517e+00 | step =  1.45e-05\n",
      "it n°8 | f = 5.22755e+00 | L = 9.85335e-04 | P = 5.21541e+00 | step =  7.24e-06\n",
      "it n°9 | f = 5.23192e+00 | L = 9.83734e-04 | P = 5.21698e+00 | step =  3.62e-06\n",
      "it n°10 | f = 5.23328e+00 | L = 9.82585e-04 | P = 5.21616e+00 | step =  1.81e-06\n",
      "it n°11 | f = 5.23340e+00 | L = 9.82529e-04 | P = 5.21618e+00 | step =  9.06e-07\n",
      "it n°12 | f = 5.23448e+00 | L = 9.82013e-04 | P = 5.21622e+00 | step =  4.53e-07\n",
      "it n°13 | f = 5.23483e+00 | L = 9.82100e-04 | P = 5.21675e+00 | step =  2.26e-07\n",
      "it n°14 | f = 5.23435e+00 | L = 9.82320e-04 | P = 5.21671e+00 | step =  1.13e-07\n",
      "it n°15 | f = 5.23533e+00 | L = 9.81829e-04 | P = 5.21669e+00 | step =  5.66e-08\n",
      "it n°16 | f = 5.23487e+00 | L = 9.82059e-04 | P = 5.21670e+00 | step =  2.83e-08\n",
      "it n°17 | f = 5.23542e+00 | L = 9.81786e-04 | P = 5.21669e+00 | step =  1.41e-08\n",
      "lam = -0.002333511403544998\n",
      "it n°1 | f = 5.24445e+00 | L = 9.81875e-04 | P = 5.21669e+00 | step =  1.41e-08\n",
      "lam = -0.005368010658620972\n",
      "it n°1 | f = 5.25659e+00 | L = 9.82275e-04 | P = 5.21673e+00 | step =  1.41e-08\n",
      "it n°2 | f = 5.25817e+00 | L = 9.81921e-04 | P = 5.21670e+00 | step =  1.70e-08\n",
      "lam = -0.009854745552993687\n",
      "it n°1 | f = 5.28096e+00 | L = 9.81641e-04 | P = 5.21679e+00 | step =  1.70e-08\n",
      "lam = -0.01666942951670438\n",
      "it n°1 | f = 5.30979e+00 | L = 9.81952e-04 | P = 5.21672e+00 | step =  1.70e-08\n",
      "lam = -0.026891455462270418\n",
      "it n°1 | f = 5.35806e+00 | L = 9.81840e-04 | P = 5.21671e+00 | step =  1.70e-08\n",
      "lam = -0.042224494380619475\n",
      "it n°1 | f = 5.43348e+00 | L = 9.81643e-04 | P = 5.21679e+00 | step =  1.70e-08\n",
      "lam = -0.06522405275814307\n",
      "it n°1 | f = 5.52777e+00 | L = 9.82044e-04 | P = 5.21672e+00 | step =  1.70e-08\n",
      "lam = -0.09972339032442845\n",
      "it n°1 | f = 5.68968e+00 | L = 9.81921e-04 | P = 5.21670e+00 | step =  1.70e-08\n",
      "lam = -0.15147239667385654\n",
      "it n°1 | f = 5.92629e+00 | L = 9.81920e-04 | P = 5.21670e+00 | step =  1.70e-08\n",
      "lam = -0.22909590619799863\n",
      "it n°1 | f = 6.28181e+00 | L = 9.81914e-04 | P = 5.21670e+00 | step =  1.70e-08\n",
      "lam = -0.3455311704842118\n",
      "it n°1 | f = 6.82921e+00 | L = 9.81832e-04 | P = 5.21692e+00 | step =  1.70e-08\n",
      "lam = -0.5201840669135316\n",
      "it n°1 | f = 7.57943e+00 | L = 9.82043e-04 | P = 5.21672e+00 | step =  1.70e-08\n",
      "lam = -0.7821634115575112\n",
      "it n°1 | f = 8.76291e+00 | L = 9.82038e-04 | P = 5.21671e+00 | step =  1.70e-08\n",
      "lam = -1.1751324285234808\n",
      "it n°1 | f = 1.06088e+01 | L = 9.81915e-04 | P = 5.21671e+00 | step =  1.70e-08\n",
      "lam = -1.764585953972435\n",
      "it n°1 | f = 1.34424e+01 | L = 9.81761e-04 | P = 5.21672e+00 | step =  1.70e-08\n",
      "lam = -2.648766242145866\n",
      "it n°1 | f = 1.74118e+01 | L = 9.81868e-04 | P = 5.21680e+00 | step =  1.70e-08\n",
      "lam = -3.975036674406013\n",
      "it n°1 | f = 2.34161e+01 | L = 9.81914e-04 | P = 5.21670e+00 | step =  1.70e-08\n",
      "lam = -5.964442322796233\n"
     ]
    }
   ],
>>>>>>> Stashed changes
   "source": [
    "## Initialisation\n",
    "\n",
    "lam = 0\n",
    "scale = 1e3\n",
<<<<<<< Updated upstream
    "beta = 500  # Coefficient de pénalisation (à faire varier)\n",
    "alpha = 1e-3 / 2  # Pas initial\n",
    "airgap = 4.11e-3 * np.array([1, 1, 1, 1])\n",
    "\n",
    "alpha_min = 1e-7  # Pas minimal\n",
    "N_max = 20  # Nombre d'itérations de l'algorithme d'optimisation\n",
=======
    "beta = 100         # Coefficient de pénalisation (à faire varier)\n",
    "alpha = 1e-3       # Pas initial\n",
    "airgap =  4.11e-3 * np.array([1, 1, 1, 1])\n",
    "\n",
    "alpha_min = 1e-8  # Pas minimal\n",
    "N_max = 20      # Nombre d'itérations de l'algorithme d'optimisation\n",
>>>>>>> Stashed changes
    "n_max = 20\n",
    "\n",
    "ConstList = []\n",
    "LagrList = []\n",
    "lamList = [lam]\n",
    "LossList = []\n",
    "InductanceList = []\n",
    "AirgapList = []\n",
    "N = 0\n",
<<<<<<< Updated upstream
    "while N < N_max:\n",
    "    airgap, alpha, lagrList, constList, lossList, inductanceList, airgapList = innerMinimization(\n",
    "        airgap, lam, beta, alpha=2 * alpha, n_max=n_max, alpha_min=alpha_min, scale=scale\n",
    "    )\n",
    "    lam += beta * constList[-1]\n",
=======
    "while ( N < N_max):\n",
    "    airgap, alpha, lagrList, constList, lossList, inductanceList, airgapList = innerMinimization(airgap, lam, beta, alpha= 2 * alpha, n_max = n_max, alpha_min = alpha_min, scale = scale)\n",
    "    lam +=  beta * constList[-1]\n",
    "    beta *= 1.5\n",
>>>>>>> Stashed changes
    "    print(f\"{lam = }\")\n",
    "    lamList.append(lam)\n",
    "    LagrList += lagrList\n",
    "    ConstList += constList\n",
    "    LossList += lossList\n",
    "    InductanceList += inductanceList\n",
    "    AirgapList += airgapList\n",
    "    N += 1"
   ]
  },
  {
   "cell_type": "code",
<<<<<<< Updated upstream
   "execution_count": null,
   "id": "5ca142a9",
   "metadata": {},
   "outputs": [],
   "source": [
    "ax1 = plt.plot(LossList, color=\"b\")\n",
    "plt.ylabel(\"Losses (W)\", color=\"b\")\n",
    "plt.xlabel(\"Itérations\")\n",
=======
   "execution_count": 39,
   "id": "5ca142a9",
   "metadata": {},
   "outputs": [
    {
     "data": {
      "image/png": "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",
      "text/plain": [
       "<Figure size 640x480 with 2 Axes>"
      ]
     },
     "metadata": {},
     "output_type": "display_data"
    }
   ],
   "source": [
    "ax1 = plt.plot(LossList, color = 'b')   \n",
    "plt.grid()\n",
    "\n",
    "plt.ylabel('Losses (W)', color = 'b')\n",
    "plt.xlabel('Itérations')\n",
>>>>>>> Stashed changes
    "ax2 = plt.gca().twinx()\n",
    "ax2.plot(InductanceList, color=\"r\")\n",
    "plt.ylabel(\"Inductance (H)\", color=\"r\")\n",
    "plt.show()"
   ]
  },
  {
   "cell_type": "code",
<<<<<<< Updated upstream
   "execution_count": null,
   "id": "e918ca75",
   "metadata": {},
   "outputs": [],
=======
   "execution_count": 40,
   "id": "e918ca75",
   "metadata": {},
   "outputs": [
    {
     "data": {
      "application/vnd.jupyter.widget-view+json": {
       "model_id": "6d357127ee0d4242b486492c4b394f83",
       "version_major": 2,
       "version_minor": 0
      },
      "text/plain": [
       "WebGuiWidget(layout=Layout(height='500px', width='100%'), value={'gui_settings': {}, 'ngsolve_version': '6.2.2…"
      ]
     },
     "metadata": {},
     "output_type": "display_data"
    },
    {
     "data": {
      "text/plain": [
       "BaseWebGuiScene"
      ]
     },
     "execution_count": 40,
     "metadata": {},
     "output_type": "execute_result"
    }
   ],
>>>>>>> Stashed changes
   "source": [
    "meshOptim = gen_mesh2(airgapList[-1])\n",
    "Draw(1 * XiAir + 2 * XiCoil + 3 * XiCore, meshOptim, radius=0.02)"
   ]
  },
  {
   "cell_type": "code",
   "execution_count": 41,
   "id": "7d4f9084",
   "metadata": {},
   "outputs": [
    {
     "data": {
      "text/plain": [
       "5.216728915077084"
      ]
     },
     "execution_count": 41,
     "metadata": {},
     "output_type": "execute_result"
    }
   ],
   "source": [
    "LossList[-1]"
   ]
  },
  {
   "cell_type": "code",
   "execution_count": 42,
   "id": "9a92cdf3",
   "metadata": {},
   "outputs": [
    {
     "data": {
      "text/plain": [
       "0.0009820518611655356"
      ]
     },
     "execution_count": 42,
     "metadata": {},
     "output_type": "execute_result"
    }
   ],
   "source": [
    "InductanceList[-1]"
   ]
  },
  {
   "cell_type": "code",
   "execution_count": 43,
   "id": "f035f784",
   "metadata": {},
   "outputs": [
    {
     "data": {
      "text/plain": [
       "array([0.00039999, 0.01078883, 0.01127496, 0.00470212])"
      ]
     },
     "execution_count": 43,
     "metadata": {},
     "output_type": "execute_result"
    }
   ],
   "source": [
    "airgapList[-1]\n"
   ]
  },
  {
   "cell_type": "code",
   "execution_count": 44,
   "id": "c8578227",
   "metadata": {},
   "outputs": [
    {
     "data": {
      "text/plain": [
       "[<matplotlib.lines.Line2D at 0x16c26edde50>]"
      ]
     },
     "execution_count": 44,
     "metadata": {},
     "output_type": "execute_result"
    },
    {
     "data": {
      "image/png": "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",
      "text/plain": [
       "<Figure size 640x480 with 1 Axes>"
      ]
     },
     "metadata": {},
     "output_type": "display_data"
    }
   ],
   "source": [
    "plt.plot(lamList)"
   ]
  },
  {
   "cell_type": "code",
   "execution_count": null,
   "id": "8962078e",
   "metadata": {},
   "outputs": [],
   "source": []
  }
 ],
 "metadata": {
  "kernelspec": {
   "display_name": "ngsolve-env",
   "language": "python",
   "name": "python3"
  },
  "language_info": {
   "codemirror_mode": {
    "name": "ipython",
    "version": 3
   },
   "file_extension": ".py",
   "mimetype": "text/x-python",
   "name": "python",
   "nbconvert_exporter": "python",
   "pygments_lexer": "ipython3",
   "version": "3.13.1"
  }
 },
 "nbformat": 4,
 "nbformat_minor": 5
}
