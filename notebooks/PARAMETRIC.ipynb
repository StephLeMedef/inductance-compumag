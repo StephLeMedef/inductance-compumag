{
 "cells": [
  {
   "cell_type": "markdown",
   "id": "99e7d872-b983-48bf-8776-0a66a7ebe26d",
   "metadata": {},
   "source": [
    "# Reference inductor"
   ]
  },
  {
   "cell_type": "code",
   "execution_count": null,
   "id": "da8b8758",
   "metadata": {},
   "outputs": [],
   "source": [
    "# donner un pipfile pour la config\n",
    "\n",
    "from shapeOptInductor import create_plots, update_plots, rot, gen_mesh2, Id  # noqa: F401\n",
    "import ngsolve as ngs\n",
    "from ngsolve.webgui import Draw\n",
    "import numpy as np\n",
    "import matplotlib.pyplot as plt"
   ]
  },
  {
   "cell_type": "markdown",
   "id": "cdc1f4c9",
   "metadata": {},
   "source": [
    "## 1 - Geometry and meshing"
   ]
  },
  {
   "cell_type": "code",
   "execution_count": null,
   "id": "a5309f75-c8d7-447b-a40d-52333cde510e",
   "metadata": {},
   "outputs": [],
   "source": [
    "airgap = 1.74e-3 * np.array([1, 1, 1, 1])\n",
    "thickness = 1e-2\n",
    "\n",
    "maxh = 2e-3\n",
    "mesh = gen_mesh2(airgap, maxh)\n",
    "\n",
    "\n",
    "XiAir = mesh.MaterialCF({\"air\": 1})\n",
    "XiCore = mesh.MaterialCF({\"core\": 1})\n",
    "XiCoil = mesh.MaterialCF({\"coil\": 1})\n",
    "\n",
    "Draw(1 * XiAir + 2 * XiCoil + 3 * XiCore, mesh, radius=0.02)"
   ]
  },
  {
   "cell_type": "markdown",
   "id": "07ade2ab",
   "metadata": {},
   "source": [
    "## 2 - Computation of magnetic state"
   ]
  },
  {
   "cell_type": "code",
   "execution_count": null,
   "id": "aa4e1eda-f7a4-4a2d-8db8-b6b2b8185876",
   "metadata": {},
   "outputs": [],
   "source": [
    "# Frequency\n",
    "f = 5e4  # Hz\n",
    "omega = 2 * np.pi * f\n",
    "\n",
    "# Magnetic\n",
    "mu0 = 4e-7 * np.pi\n",
    "mur = 1000\n",
    "mu_iron = mur * mu0\n",
    "delta = 0.1\n",
    "mu_coil = np.exp(-1j * delta) * mu0  #  AC losses in the copper from the imaginary part of the permeability\n",
    "\n",
    "# Current\n",
    "nb_turn = 200  # Number of turn in the coil\n",
    "Is = 2  # Source current intensity\n",
    "js = nb_turn / 2 * Is / (ngs.Integrate(XiCoil, mesh)) * XiCoil  # Source current density\n",
    "\n",
    "\n",
    "def magWeakFormComplex(a, a_):\n",
    "    bf = ngs.grad(a_) * 1 / mu_iron * ngs.grad(a) * ngs.dx(\"core\")\n",
    "    bf += ngs.grad(a_) * 1 / mu_coil * ngs.grad(a) * ngs.dx(\"coil\")\n",
    "    bf += ngs.grad(a_) * 1 / mu0 * ngs.grad(a) * ngs.dx(\"air\")\n",
    "    lf = a_ * js * ngs.dx(\"coil\")\n",
    "    return bf, lf\n",
    "\n",
    "\n",
    "def solveStateComplex(fes):\n",
    "    a, a_ = fes.TnT()\n",
    "    bf, f = magWeakFormComplex(a, a_)\n",
    "    K, F = ngs.BilinearForm(fes), ngs.LinearForm(fes)\n",
    "    K += bf\n",
    "    F += f\n",
    "    K.Assemble()\n",
    "    F.Assemble()\n",
    "    gf = ngs.GridFunction(fes)\n",
    "    Kinv = K.mat.Inverse(freedofs=fes.FreeDofs(), inverse=\"pardiso\")\n",
    "    gf.vec.data = Kinv * F.vec\n",
    "    return gf, Kinv\n",
    "\n",
    "\n",
    "fes = ngs.H1(mesh, order=1, dirichlet=\"arc|segment2|domainVert\", complex=True)\n",
    "a, Kinv = solveStateComplex(fes)\n",
    "Draw(ngs.Norm(a), mesh)"
   ]
  },
  {
   "cell_type": "code",
   "execution_count": null,
   "id": "5fc5d8e6",
   "metadata": {},
   "outputs": [],
   "source": [
    "def Inductance(a, mesh):\n",
    "    rel = XiAir / mu0 + XiCoil / mu_coil + XiCore / mu_iron\n",
    "    return 4 * thickness / (2 * Is**2) * ngs.Integrate(rel.real * ngs.Norm(ngs.grad(a)) ** 2, mesh)\n",
    "\n",
    "\n",
    "def Losses(a, mesh):\n",
    "    rel = XiCoil / mu_coil\n",
    "    return 4 * omega / 2 * thickness * ngs.Integrate(rel.imag * ngs.Norm(ngs.grad(a)) ** 2, mesh)\n",
    "\n",
    "\n",
    "print(f\" L = {Inductance(a,mesh) * 1e6 :.2f} µH\")\n",
    "print(f\" P_AC = {Losses(a,mesh) :.2f} W\")"
   ]
  },
  {
   "cell_type": "code",
   "execution_count": null,
   "id": "06c63127",
   "metadata": {},
   "outputs": [],
   "source": [
    "# optim parameters\n",
    "L_target = 1e-3\n",
    "l = 0\n",
    "b = 1\n",
    "\n",
    "\n",
    "def Constraint(a, mesh):\n",
    "    return Inductance(a, mesh) - L_target\n",
    "\n",
    "\n",
    "def dConstraint(a0, p_, mesh=None):\n",
    "    rel = XiAir / mu0 + XiCoil / mu_coil + XiCore / mu_iron\n",
    "    return 2 * 4 * thickness / (2 * Is**2) * rel.real * ngs.InnerProduct(ngs.grad(a0), ngs.grad(p_)) * ngs.dx()\n",
    "\n",
    "\n",
    "def CostFunction(a, mesh):\n",
    "    return Losses(a, mesh) + l * Constraint(a, mesh) + 0.5 * b * Constraint(a, mesh) ** 2\n",
    "\n",
    "\n",
    "def dCostFunction(a0, p_, mesh):\n",
    "    rel = XiCoil / mu_coil\n",
    "    dLosses = 2 * 4 * omega / 2 * thickness * rel.imag * ngs.InnerProduct(ngs.grad(a0), ngs.grad(p_)) * ngs.dx()\n",
    "    return dLosses + l * dConstraint(a0, p_) + b * Constraint(a, mesh) * dConstraint(a0, p_)"
   ]
  },
  {
   "cell_type": "markdown",
   "id": "6ef7e8b1",
   "metadata": {},
   "source": [
    "# Adjoint"
   ]
  },
  {
   "cell_type": "code",
   "execution_count": null,
   "id": "aa979b69",
   "metadata": {},
   "outputs": [],
   "source": [
    "def solveAdjoint(a0, df, Kinv):\n",
    "    \"\"\"Solves the adjoint equation for a given df\"\"\"\n",
    "    fes = a0.space\n",
    "    p, p_ = fes.TnT()\n",
    "    f = ngs.LinearForm(fes)\n",
    "    f += -1 * df(a0, p_, fes.mesh)\n",
    "    f.Assemble()\n",
    "    gf = ngs.GridFunction(fes)\n",
    "    gf.vec.data = Kinv.H * f.vec\n",
    "    return gf\n",
    "\n",
    "\n",
    "p_obj = solveAdjoint(a, dCostFunction, Kinv)\n",
    "p_const = solveAdjoint(a, dConstraint, Kinv)\n",
    "Draw(p_const)"
   ]
  },
  {
   "cell_type": "markdown",
   "id": "dc280f32",
   "metadata": {},
   "source": [
    "## Gradient"
   ]
  },
  {
   "cell_type": "code",
   "execution_count": null,
   "id": "f3a596a5",
   "metadata": {},
   "outputs": [],
   "source": [
    "from shapeOptInductor import referenceVelocity\n",
    "\n",
    "v11, v12, v21, v22 = referenceVelocity(mesh)\n",
    "\n",
    "Draw(v22)"
   ]
  },
  {
   "cell_type": "code",
   "execution_count": null,
   "id": "4ee6543e",
   "metadata": {},
   "outputs": [],
   "source": [
    "rel = XiAir / mu0 + XiCore / mu_iron\n",
    "FES = ngs.VectorH1(a.space.mesh, Complex=True)\n",
    "phi = FES.TestFunction()\n",
    "lf = ngs.LinearForm(FES)\n",
    "Aphi = ngs.div(phi) * Id - ngs.grad(phi) - ngs.grad(phi).trans\n",
    "lf += rel * ngs.InnerProduct(Aphi * ngs.grad(a), ngs.grad(p_obj)) * ngs.dx\n",
    "lf.Assemble()"
   ]
  },
  {
   "cell_type": "code",
   "execution_count": null,
   "id": "8e953ef2",
   "metadata": {},
   "outputs": [],
   "source": [
    "def dP(a0, p0):\n",
    "    rel = XiAir / mu0 + XiCore / mu_iron\n",
    "    FES = ngs.VectorH1(a0.space.mesh, Complex=True)\n",
    "    phi = FES.TestFunction()\n",
    "    lf = ngs.LinearForm(FES)\n",
    "    Aphi = ngs.div(phi) * Id - ngs.grad(phi) - ngs.grad(phi).trans\n",
    "    lf += rel * ngs.InnerProduct(Aphi * ngs.grad(a0), ngs.grad(p0)) * ngs.dx\n",
    "    lf.Assemble()\n",
    "    return lf\n",
    "\n",
    "\n",
    "def dL(a0, p0):\n",
    "    rel = XiAir / mu0 + XiCore / mu_iron\n",
    "    FES = ngs.VectorH1(a0.space.mesh, Complex=True)\n",
    "    phi = FES.TestFunction()\n",
    "    lf = ngs.LinearForm(FES)\n",
    "    Aphi = ngs.div(phi) * Id - ngs.grad(phi) - ngs.grad(phi).trans\n",
    "    lf += rel * ngs.InnerProduct(Aphi * ngs.grad(a0), ngs.grad(a0) + 4 / (2 * Is**2) * ngs.grad(p0)) * ngs.dx\n",
    "    lf.Assemble()\n",
    "    return lf\n",
    "\n",
    "\n",
    "def shapeGrad(a0, p0, dJ):\n",
    "    v11, v12, v21, v22 = referenceVelocity(mesh)\n",
    "    dJlf = dJ(a0, p0)\n",
    "    FES = ngs.VectorH1(a0.space.mesh)\n",
    "    dJ = ngs.GridFunction(FES)\n",
    "    dJ.vec.FV().NumPy()[:] = np.real(dJlf.vec.FV().NumPy()[:])\n",
    "    g11 = ngs.InnerProduct(dJ, v11)\n",
    "    g12 = ngs.InnerProduct(dJ, v12)\n",
    "    g21 = ngs.InnerProduct(dJ, v21)\n",
    "    g22 = ngs.InnerProduct(dJ, v22)\n",
    "    return g11, g12, g21, g22\n",
    "\n",
    "\n",
    "dJobj = dP(a, p_obj)"
   ]
  },
  {
   "cell_type": "markdown",
   "id": "b5a08135",
   "metadata": {},
   "source": [
    "## Optimization Loop"
   ]
  },
  {
   "cell_type": "code",
   "execution_count": null,
   "id": "3f53b916",
   "metadata": {},
   "outputs": [],
   "source": []
  },
  {
   "cell_type": "code",
   "execution_count": null,
   "id": "0bf83f45",
   "metadata": {},
   "outputs": [],
   "source": []
  }
 ],
 "metadata": {
  "kernelspec": {
   "display_name": "ngsolve-env",
   "language": "python",
   "name": "python3"
  },
  "language_info": {
   "codemirror_mode": {
    "name": "ipython",
    "version": 3
   },
   "file_extension": ".py",
   "mimetype": "text/x-python",
   "name": "python",
   "nbconvert_exporter": "python",
   "pygments_lexer": "ipython3"
  }
 },
 "nbformat": 4,
 "nbformat_minor": 5
}
