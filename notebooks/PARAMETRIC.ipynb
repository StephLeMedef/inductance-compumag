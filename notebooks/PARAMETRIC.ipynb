{
 "cells": [
  {
   "cell_type": "markdown",
   "id": "99e7d872-b983-48bf-8776-0a66a7ebe26d",
   "metadata": {},
   "source": [
    "# Parametric optimization - inductor"
   ]
  },
  {
   "cell_type": "code",
   "execution_count": 1,
   "id": "da8b8758",
   "metadata": {},
   "outputs": [],
   "source": [
    "from shapeOptInductor import gen_mesh2, Id\n",
    "import ngsolve as ngs\n",
    "from ngsolve.webgui import Draw\n",
    "import numpy as np\n",
    "import matplotlib.pyplot as plt\n"
   ]
  },
  {
   "cell_type": "markdown",
   "id": "cdc1f4c9",
   "metadata": {},
   "source": [
    "## 1 - Geometry and meshing\n",
    "\n",
    "We define a geometry with 4 control points on the airgap."
   ]
  },
  {
   "cell_type": "code",
   "execution_count": 2,
   "id": "a5309f75-c8d7-447b-a40d-52333cde510e",
   "metadata": {},
   "outputs": [
    {
     "data": {
      "application/vnd.jupyter.widget-view+json": {
       "model_id": "189438a629854defa8ec2da2b092e6be",
       "version_major": 2,
       "version_minor": 0
      },
      "text/plain": [
       "WebGuiWidget(layout=Layout(height='500px', width='100%'), value={'gui_settings': {}, 'ngsolve_version': '6.2.2…"
      ]
     },
     "metadata": {},
     "output_type": "display_data"
    },
    {
     "data": {
      "text/plain": [
       "BaseWebGuiScene"
      ]
     },
     "execution_count": 2,
     "metadata": {},
     "output_type": "execute_result"
    }
   ],
   "source": [
    "airgap = 4.11e-3 * np.array([1, 1, 1, 1])\n",
    "lz = 1e-2  # thickness in the z-direction (m)\n",
    "s = 4  # symmetry factor\n",
    "\n",
    "maxh = 2e-3\n",
    "mesh = gen_mesh2(airgap, maxh)\n",
    "\n",
    "XiAir = mesh.MaterialCF({\"air\": 1})\n",
    "XiCore = mesh.MaterialCF({\"core\": 1})\n",
    "XiCoil = mesh.MaterialCF({\"coil\": 1})\n",
    "\n",
    "Draw(1 * XiAir + 2 * XiCoil + 3 * XiCore, mesh, radius=0.02)\n"
   ]
  },
  {
   "cell_type": "markdown",
   "id": "07ade2ab",
   "metadata": {},
   "source": [
    "## 2 - State problem\n",
    "\n",
    "### a) Parameters definition"
   ]
  },
  {
   "cell_type": "code",
   "execution_count": 3,
   "id": "aa4e1eda-f7a4-4a2d-8db8-b6b2b8185876",
   "metadata": {},
   "outputs": [],
   "source": [
    "f = 5e4  # working frequency (Hz)\n",
    "omega = 2 * np.pi * f  # rad/s\n",
    "mu0 = 4e-7 * np.pi  # void permeability (H/m)\n",
    "mur = 1000  # relative permeability of iron (no unit)\n",
    "mu_iron = mur * mu0  # permeability of iron (H/m)\n",
    "delta = 0.1  # loss angle associated with the coil (rad)\n",
    "mu_coil = np.exp(-1j * delta) * mu0  # complex permeability\n",
    "nb_turn = 200  # number of turn in the coil (no unit)\n",
    "Is = 2  # source current intensity (A)\n",
    "js = nb_turn / 2 * Is / (ngs.Integrate(XiCoil, mesh)) * XiCoil  # source current density (A/m²)\n"
   ]
  },
  {
   "cell_type": "markdown",
   "id": "0b40cb03",
   "metadata": {},
   "source": [
    "### b) Definition of the magnetic problem"
   ]
  },
  {
   "cell_type": "code",
   "execution_count": 4,
   "id": "dfebbfd6",
   "metadata": {},
   "outputs": [],
   "source": [
    "def magWeakFormComplex(a, a_):\n",
    "    \"\"\"Return the complex weak form of the magnetic problem, i.e, bilinear\n",
    "    and linear forms (matrix and right-hand side after discretization, respectively)\"\"\"\n",
    "\n",
    "    # bilinear form (transmission)\n",
    "    bf = ngs.grad(a_) * 1 / mu_iron * ngs.grad(a) * ngs.dx(\"core\")\n",
    "    bf += ngs.grad(a_) * 1 / mu_coil * ngs.grad(a) * ngs.dx(\"coil\")\n",
    "    bf += ngs.grad(a_) * 1 / mu0 * ngs.grad(a) * ngs.dx(\"air\")\n",
    "\n",
    "    # linear form (source)\n",
    "    lf = a_ * js * ngs.dx(\"coil\")\n",
    "\n",
    "    return bf, lf\n",
    "\n",
    "\n",
    "def solveStateComplex(mesh):\n",
    "    \"\"\"Solve the complex magnetic state\"\"\"\n",
    "    # definition of function space\n",
    "    fes = ngs.H1(mesh, order=1, dirichlet=\"arc|segment2|domainVert\", complex=True)\n",
    "    a, a_ = fes.TnT()\n",
    "\n",
    "    # definition of weak form\n",
    "    bf, f = magWeakFormComplex(a, a_)\n",
    "    K, F = ngs.BilinearForm(fes), ngs.LinearForm(fes)\n",
    "    K += bf\n",
    "    F += f\n",
    "\n",
    "    # assembly\n",
    "    K.Assemble()\n",
    "    F.Assemble()\n",
    "\n",
    "    # solving\n",
    "    gf = ngs.GridFunction(fes)\n",
    "    Kinv = K.mat.Inverse(freedofs=fes.FreeDofs(), inverse=\"pardiso\")\n",
    "    gf.vec.data = Kinv * F.vec\n",
    "\n",
    "    return gf, Kinv  # returning Kinv speed up adjoint calculation\n"
   ]
  },
  {
   "cell_type": "markdown",
   "id": "a79e72fe",
   "metadata": {},
   "source": [
    "### c) Definition of the post-processed quantities\n",
    "\n",
    "We define the losses and inductance, with the directional derivative of their local quantities."
   ]
  },
  {
   "cell_type": "code",
   "execution_count": 5,
   "id": "5fc5d8e6",
   "metadata": {},
   "outputs": [],
   "source": [
    "def Inductance(a, mesh):\n",
    "    rel = XiAir / mu0 + XiCoil / mu_coil + XiCore / mu_iron\n",
    "    return s * lz / (Is**2) * ngs.Integrate(rel.real * ngs.Norm(ngs.grad(a)) ** 2, mesh)\n",
    "\n",
    "\n",
    "def dInductance(a, p_, mesh):\n",
    "    rel = XiAir / mu0 + XiCoil / mu_coil + XiCore / mu_iron\n",
    "    return 2 * s * lz / (Is**2) * ngs.InnerProduct(rel.real * ngs.grad(a), ngs.grad(p_)) * ngs.dx()\n",
    "\n",
    "\n",
    "def Losses(a, mesh):\n",
    "    rel = XiCoil / mu_coil\n",
    "    return s * np.pi * f * lz * ngs.Integrate(rel.imag * ngs.Norm(ngs.grad(a)) ** 2, mesh)\n",
    "\n",
    "\n",
    "def dLosses(a, p_, mesh):\n",
    "    rel = XiCoil / mu_coil\n",
    "    return 2 * s * np.pi * f * lz * ngs.InnerProduct(rel.imag * ngs.grad(a), ngs.grad(p_)) * ngs.dx()\n"
   ]
  },
  {
   "cell_type": "markdown",
   "id": "61b6e2c9",
   "metadata": {},
   "source": [
    "## 3 - Adjoint problem"
   ]
  },
  {
   "cell_type": "code",
   "execution_count": 6,
   "id": "770a9678",
   "metadata": {},
   "outputs": [],
   "source": [
    "def solveAdjoint(a0, df, Kinv):\n",
    "    \"\"\"Solve the adjoint equation for a given df\"\"\"\n",
    "    fes = a0.space\n",
    "    p, p_ = fes.TnT()\n",
    "    f = ngs.LinearForm(fes)\n",
    "    f += -1 * df(a0, p_, fes.mesh)\n",
    "    f.Assemble()\n",
    "    gf = ngs.GridFunction(fes)\n",
    "    gf.vec.data = Kinv.H * f.vec\n",
    "    return gf\n"
   ]
  },
  {
   "cell_type": "markdown",
   "id": "7d259f4c",
   "metadata": {},
   "source": [
    "## 4 - Shape derivative"
   ]
  },
  {
   "cell_type": "code",
   "execution_count": 7,
   "id": "0a1c5c93",
   "metadata": {},
   "outputs": [],
   "source": [
    "def SDLosses(a0, p0):\n",
    "    \"\"\"Shape derivative for the losses inside the coil\"\"\"\n",
    "    mesh = a0.space.mesh\n",
    "    FESReal = ngs.VectorH1(mesh)\n",
    "    FEScomplex = ngs.VectorH1(mesh, complex=True)\n",
    "    X = FEScomplex.TestFunction()\n",
    "\n",
    "    rel = (1 / mu0) * XiAir + (1 / mu_coil) * XiCoil + (1 / mu_iron) * XiCore\n",
    "    coeff_losses = s * np.pi * lz * (1 / mu_coil).imag\n",
    "    dA = ngs.div(X) * Id - ngs.grad(X) - ngs.grad(X).trans\n",
    "\n",
    "    dLOmega = ngs.LinearForm(FEScomplex)\n",
    "    dLOmega += coeff_losses * ngs.InnerProduct(dA * ngs.grad(a0), ngs.grad(a0)) * ngs.dx(\"coil\")\n",
    "    dLOmega += -js * XiCoil * ngs.div(X) * p0 * ngs.dx\n",
    "    dLOmega += ngs.InnerProduct(rel * dA * ngs.grad(a0), ngs.grad(p0)) * ngs.dx\n",
    "    dLOmega.Assemble()\n",
    "\n",
    "    dJ = ngs.GridFunction(FESReal)\n",
    "    dJ.vec.FV().NumPy()[:] = np.real(dLOmega.vec.FV().NumPy()[:])\n",
    "    return dJ\n",
    "\n",
    "\n",
    "def SDInductance(a0, p0):\n",
    "    \"\"\"Shape derivative for the inductance\"\"\"\n",
    "    mesh = a0.space.mesh\n",
    "    FESReal = ngs.VectorH1(mesh)\n",
    "    FEScomplex = ngs.VectorH1(mesh, complex=True)\n",
    "    X = FEScomplex.TestFunction()\n",
    "\n",
    "    rel = (1 / mu0) * XiAir + (1 / mu_coil) * XiCoil + (1 / mu_iron) * XiCore\n",
    "    Id = ngs.CoefficientFunction((1, 0, 0, 1), dims=(2, 2))  # Identity matrix\n",
    "    coeff_induc = s * lz / (Is**2) * rel.real\n",
    "    dA = ngs.div(X) * Id - ngs.grad(X) - ngs.grad(X).trans\n",
    "\n",
    "    dLOmega = ngs.LinearForm(FEScomplex)\n",
    "    dLOmega += coeff_induc * ngs.InnerProduct(dA * ngs.grad(a0), ngs.grad(a0)) * ngs.dx\n",
    "    dLOmega += -js * ngs.div(X) * p0 * ngs.dx\n",
    "    dLOmega += ngs.InnerProduct(rel * dA * ngs.grad(a0), ngs.grad(p0)) * ngs.dx\n",
    "    dLOmega.Assemble()\n",
    "\n",
    "    dJ = ngs.GridFunction(FESReal)\n",
    "    dJ.vec.FV().NumPy()[:] = np.real(dLOmega.vec.FV().NumPy()[:])\n",
    "    return dJ\n"
   ]
  },
  {
   "cell_type": "markdown",
   "id": "0f8c67f0",
   "metadata": {},
   "source": [
    "### Gradient"
   ]
  },
  {
   "cell_type": "code",
   "execution_count": 8,
   "id": "a6f5fac6",
   "metadata": {},
   "outputs": [],
   "source": [
    "from shapeOptInductor import referenceVelocity\n",
    "\n",
    "\n",
    "def shapeGrad(a0, p0, dJ):\n",
    "    v11, v12, v21, v22 = referenceVelocity(a0.space.mesh)\n",
    "    dJlf = dJ(a0, p0)\n",
    "    FES = ngs.VectorH1(a0.space.mesh)\n",
    "    dJ = ngs.GridFunction(FES)\n",
    "    dJ.vec.FV().NumPy()[:] = np.real(dJlf.vec.FV().NumPy()[:])\n",
    "    g11 = ngs.InnerProduct(dJ.vec, v11.vec)\n",
    "    g12 = ngs.InnerProduct(dJ.vec, v12.vec)\n",
    "    g21 = ngs.InnerProduct(dJ.vec, v21.vec)\n",
    "    g22 = ngs.InnerProduct(dJ.vec, v22.vec)\n",
    "    return g11, g12, g21, g22\n"
   ]
  },
  {
   "cell_type": "markdown",
   "id": "6ef7e8b1",
   "metadata": {},
   "source": [
    "## 3 - Optimization\n",
    "\n",
    "### a) Optimization algorithm\n",
    "We use an augmented Lagrangian algorithm (saddle point problem) : we maximize with respect to a Lagrange multiplier $l$ a sequence of inner minimization problem with respect to the optimization variables $e$ :\n",
    "\n",
    "$$ \\mathcal L(e,\\lambda) = P(e) + \\lambda (L(e) - L_0) + \\frac{\\beta}{2} (L(e) - L_0)^2 $$"
   ]
  },
  {
   "cell_type": "code",
   "execution_count": 9,
   "id": "aa979b69",
   "metadata": {},
   "outputs": [],
   "source": [
    "# augmented lagrangian\n",
    "L_target = 1e-3\n",
    "\n",
    "\n",
    "def innerMinimization(airgap, lam, beta, alpha, n_max=50, alpha_min=1e-5, scale=1e4):\n",
    "    n = 0\n",
    "    airgapMin = 1e-4\n",
    "    airgapMax = 1.49e-2\n",
    "    mesh = gen_mesh2(airgap, maxh=maxh)\n",
    "    a, Kinv = solveStateComplex(mesh)\n",
    "    loss = Losses(a, mesh)\n",
    "    ind = Inductance(a, mesh)\n",
    "    objectiveHistory = [loss + lam * (scale * (ind - L_target)) + beta / 2 * (scale * (ind - L_target)) ** 2]\n",
    "    constraintHistory = [ind - L_target]\n",
    "    airgapHistory = [airgap.copy()]\n",
    "    inductanceHistory = [ind]\n",
    "    lossesHistory = [loss]\n",
    "    while n < n_max and alpha > alpha_min:\n",
    "        mesh = gen_mesh2(airgap, maxh=maxh)\n",
    "        # 1) state computation :\n",
    "        a, Kinv = solveStateComplex(mesh)\n",
    "\n",
    "        # 2) adjoint computation :\n",
    "        pInd = solveAdjoint(a, dInductance, Kinv)\n",
    "        pLos = solveAdjoint(a, dLosses, Kinv)\n",
    "\n",
    "        # 3) gradient evaluation :\n",
    "        gradient = np.array(shapeGrad(a, pLos, SDLosses))\n",
    "        gradient += lam * scale * np.array(shapeGrad(a, pInd, SDInductance))\n",
    "        gradient += beta * scale**2 * (Inductance(a, mesh) - L_target) * np.array(shapeGrad(a, pInd, SDInductance))\n",
    "\n",
    "        # 4) update :\n",
    "        airgapTest = airgap - alpha * gradient / np.linalg.norm(gradient)\n",
    "        n += 1\n",
    "\n",
    "        # 5) projection :\n",
    "        airgapTest[airgapTest < airgapMin] = airgapMin\n",
    "        airgapTest[airgapTest > airgapMax] = airgapMax\n",
    "\n",
    "        # 6) basic step control :\n",
    "        meshTest = gen_mesh2(airgapTest, maxh=maxh)\n",
    "        a_test, _ = solveStateComplex(meshTest)\n",
    "        loss = Losses(a_test, mesh)\n",
    "        ind = Inductance(a_test, mesh)\n",
    "        objectiveHistory.append(loss + lam * scale * (ind - L_target) + beta / 2 * (scale * (ind - L_target)) ** 2)\n",
    "        constraintHistory.append(ind - L_target)\n",
    "        inductanceHistory.append(ind)\n",
    "        lossesHistory.append(loss)\n",
    "\n",
    "        print(\n",
    "            f\"it n°{n} | f = {objectiveHistory[-1] :.5e} | L = {inductanceHistory[-1]:.5e} | P = {lossesHistory[-1]:.5e} | step = {alpha : .2e}\"\n",
    "        )\n",
    "\n",
    "        if objectiveHistory[-1] >= objectiveHistory[-2]:\n",
    "            alpha = alpha / 2\n",
    "            objectiveHistory.pop()\n",
    "            constraintHistory.pop()\n",
    "            inductanceHistory.pop()\n",
    "            lossesHistory.pop()\n",
    "        elif objectiveHistory[-1] < objectiveHistory[-2]:\n",
    "            alpha = alpha * 1.2\n",
    "            airgap = airgapTest\n",
    "            airgapHistory.append(airgap)\n",
    "    return airgap, alpha, objectiveHistory, constraintHistory, lossesHistory, inductanceHistory, airgapHistory\n"
   ]
  },
  {
   "cell_type": "markdown",
   "id": "b5a08135",
   "metadata": {},
   "source": [
    "### b) Optimization Loop"
   ]
  },
  {
   "cell_type": "code",
   "execution_count": 10,
   "id": "1f9a82e5",
   "metadata": {},
   "outputs": [
    {
     "name": "stdout",
     "output_type": "stream",
     "text": [
      "it n°1 | f = 1.56171e+01 | L = 8.75579e-04 | P = 1.17470e+01 | step =  1.00e-03\n",
      "it n°2 | f = 1.36134e+01 | L = 9.31649e-04 | P = 1.24454e+01 | step =  5.00e-04\n",
      "it n°3 | f = 1.31071e+01 | L = 9.62748e-04 | P = 1.27602e+01 | step =  2.50e-04\n",
      "it n°4 | f = 1.27179e+01 | L = 9.62938e-04 | P = 1.23745e+01 | step =  3.00e-04\n",
      "it n°5 | f = 1.21098e+01 | L = 9.82877e-04 | P = 1.20365e+01 | step =  3.60e-04\n",
      "it n°6 | f = 1.16803e+01 | L = 9.83499e-04 | P = 1.16122e+01 | step =  4.32e-04\n",
      "it n°7 | f = 1.11316e+01 | L = 9.95955e-04 | P = 1.11275e+01 | step =  5.18e-04\n",
      "it n°8 | f = 1.05348e+01 | L = 1.00695e-03 | P = 1.05228e+01 | step =  6.22e-04\n",
      "it n°9 | f = 9.76977e+00 | L = 1.00704e-03 | P = 9.75739e+00 | step =  7.46e-04\n",
      "it n°10 | f = 1.00900e+01 | L = 1.06746e-03 | P = 8.95243e+00 | step =  8.96e-04\n",
      "it n°11 | f = 9.46159e+00 | L = 1.02088e-03 | P = 9.35261e+00 | step =  4.48e-04\n",
      "it n°12 | f = 8.95434e+00 | L = 9.79055e-04 | P = 8.84467e+00 | step =  5.37e-04\n",
      "it n°13 | f = 1.52099e+01 | L = 1.16464e-03 | P = 8.43332e+00 | step =  6.45e-04\n",
      "it n°14 | f = 9.63929e+00 | L = 1.06243e-03 | P = 8.66482e+00 | step =  3.22e-04\n",
      "it n°15 | f = 8.86618e+00 | L = 1.02095e-03 | P = 8.75648e+00 | step =  1.61e-04\n",
      "it n°16 | f = 8.58556e+00 | L = 9.99594e-04 | P = 8.58552e+00 | step =  1.93e-04\n",
      "it n°17 | f = 8.42661e+00 | L = 1.00889e-03 | P = 8.40684e+00 | step =  2.32e-04\n",
      "it n°18 | f = 8.15947e+00 | L = 1.00000e-03 | P = 8.15947e+00 | step =  2.79e-04\n",
      "it n°19 | f = 8.10867e+00 | L = 1.02805e-03 | P = 7.91198e+00 | step =  3.34e-04\n",
      "it n°20 | f = 8.32398e+00 | L = 9.48937e-04 | P = 7.67212e+00 | step =  4.01e-04\n",
      "lam = 0.01402462671527111\n",
      "it n°1 | f = 8.32817e+00 | L = 9.48736e-04 | P = 7.67190e+00 | step =  4.01e-04\n",
      "it n°2 | f = 7.92465e+00 | L = 9.75699e-04 | P = 7.77735e+00 | step =  2.01e-04\n",
      "it n°3 | f = 9.15472e+00 | L = 1.07688e-03 | P = 7.67596e+00 | step =  2.41e-04\n",
      "it n°4 | f = 7.95072e+00 | L = 1.02909e-03 | P = 7.73873e+00 | step =  1.20e-04\n",
      "it n°5 | f = 7.77533e+00 | L = 1.00878e-03 | P = 7.75593e+00 | step =  6.02e-05\n",
      "it n°6 | f = 7.72497e+00 | L = 1.00758e-03 | P = 7.71051e+00 | step =  7.22e-05\n",
      "it n°7 | f = 7.64024e+00 | L = 1.00190e-03 | P = 7.63931e+00 | step =  8.67e-05\n",
      "it n°8 | f = 7.56198e+00 | L = 1.00238e-03 | P = 7.56053e+00 | step =  1.04e-04\n",
      "it n°9 | f = 7.48889e+00 | L = 1.00185e-03 | P = 7.48801e+00 | step =  1.25e-04\n",
      "it n°10 | f = 7.41032e+00 | L = 1.00540e-03 | P = 7.40297e+00 | step =  1.50e-04\n",
      "it n°11 | f = 7.27641e+00 | L = 9.97307e-04 | P = 7.27464e+00 | step =  1.80e-04\n",
      "it n°12 | f = 7.40895e+00 | L = 1.03246e-03 | P = 7.14503e+00 | step =  2.16e-04\n",
      "it n°13 | f = 7.23059e+00 | L = 1.01313e-03 | P = 7.18734e+00 | step =  1.08e-04\n",
      "it n°14 | f = 7.16686e+00 | L = 9.88516e-04 | P = 7.13405e+00 | step =  1.29e-04\n",
      "it n°15 | f = 7.60239e+00 | L = 1.04677e-03 | P = 7.05498e+00 | step =  1.55e-04\n",
      "it n°16 | f = 7.17241e+00 | L = 1.01833e-03 | P = 7.08812e+00 | step =  7.76e-05\n",
      "it n°17 | f = 7.14345e+00 | L = 1.00859e-03 | P = 7.12489e+00 | step =  3.88e-05\n",
      "it n°18 | f = 7.09343e+00 | L = 1.00474e-03 | P = 7.08774e+00 | step =  4.66e-05\n",
      "it n°19 | f = 7.04563e+00 | L = 9.97826e-04 | P = 7.04448e+00 | step =  5.59e-05\n",
      "it n°20 | f = 7.00313e+00 | L = 1.00315e-03 | P = 7.00060e+00 | step =  6.71e-05\n",
      "lam = 0.015602024502708216\n",
      "it n°1 | f = 6.92394e+00 | L = 1.00126e-03 | P = 6.92352e+00 | step =  1.61e-04\n",
      "it n°2 | f = 6.86979e+00 | L = 1.01438e-03 | P = 6.81786e+00 | step =  1.93e-04\n",
      "it n°3 | f = 6.95015e+00 | L = 9.67406e-04 | P = 6.68508e+00 | step =  2.32e-04\n",
      "it n°4 | f = 6.81965e+00 | L = 9.84451e-04 | P = 6.75945e+00 | step =  1.16e-04\n",
      "it n°5 | f = 7.85828e+00 | L = 1.06791e-03 | P = 6.70416e+00 | step =  1.39e-04\n",
      "it n°6 | f = 6.89110e+00 | L = 1.02658e-03 | P = 6.71405e+00 | step =  6.95e-05\n",
      "it n°7 | f = 6.76526e+00 | L = 1.01091e-03 | P = 6.73533e+00 | step =  3.48e-05\n",
      "it n°8 | f = 6.74006e+00 | L = 1.00646e-03 | P = 6.72952e+00 | step =  4.17e-05\n",
      "it n°9 | f = 6.67512e+00 | L = 9.96738e-04 | P = 6.67251e+00 | step =  5.01e-05\n",
      "it n°10 | f = 6.66092e+00 | L = 1.00619e-03 | P = 6.65123e+00 | step =  6.01e-05\n",
      "it n°11 | f = 6.63013e+00 | L = 9.96241e-04 | P = 6.62666e+00 | step =  7.21e-05\n",
      "it n°12 | f = 6.61188e+00 | L = 1.01397e-03 | P = 6.56285e+00 | step =  8.65e-05\n",
      "it n°13 | f = 6.57279e+00 | L = 9.84137e-04 | P = 6.51013e+00 | step =  1.04e-04\n",
      "it n°14 | f = 7.76220e+00 | L = 1.07158e-03 | P = 6.48020e+00 | step =  1.25e-04\n",
      "it n°15 | f = 6.67212e+00 | L = 1.02656e-03 | P = 6.49533e+00 | step =  6.23e-05\n",
      "it n°16 | f = 6.53874e+00 | L = 1.01267e-03 | P = 6.49839e+00 | step =  3.11e-05\n",
      "it n°17 | f = 6.49222e+00 | L = 1.00436e-03 | P = 6.48740e+00 | step =  3.74e-05\n",
      "it n°18 | f = 6.48432e+00 | L = 9.97398e-04 | P = 6.48267e+00 | step =  4.49e-05\n",
      "it n°19 | f = 6.45096e+00 | L = 1.00278e-03 | P = 6.44899e+00 | step =  5.38e-05\n",
      "it n°20 | f = 6.43213e+00 | L = 9.94403e-04 | P = 6.42439e+00 | step =  6.46e-05\n",
      "lam = 0.012803468978765794\n",
      "it n°1 | f = 6.57098e+00 | L = 1.03072e-03 | P = 6.33463e+00 | step =  1.55e-04\n",
      "it n°2 | f = 6.44504e+00 | L = 1.01631e-03 | P = 6.37835e+00 | step =  7.75e-05\n",
      "it n°3 | f = 6.39906e+00 | L = 1.00630e-03 | P = 6.38906e+00 | step =  3.88e-05\n",
      "it n°4 | f = 6.37489e+00 | L = 9.97337e-04 | P = 6.37315e+00 | step =  4.65e-05\n",
      "it n°5 | f = 6.34211e+00 | L = 1.00037e-03 | P = 6.34207e+00 | step =  5.58e-05\n",
      "it n°6 | f = 6.33129e+00 | L = 9.97874e-04 | P = 6.33018e+00 | step =  6.70e-05\n",
      "it n°7 | f = 6.27400e+00 | L = 1.00530e-03 | P = 6.26692e+00 | step =  8.04e-05\n",
      "it n°8 | f = 6.25996e+00 | L = 9.90156e-04 | P = 6.23586e+00 | step =  9.64e-05\n",
      "it n°9 | f = 7.34664e+00 | L = 1.06761e-03 | P = 6.20294e+00 | step =  1.16e-04\n",
      "it n°10 | f = 6.40823e+00 | L = 1.02817e-03 | P = 6.20954e+00 | step =  5.79e-05\n",
      "it n°11 | f = 6.27612e+00 | L = 1.01393e-03 | P = 6.22741e+00 | step =  2.89e-05\n",
      "it n°12 | f = 6.22402e+00 | L = 9.99847e-04 | P = 6.22402e+00 | step =  1.45e-05\n",
      "it n°13 | f = 6.20723e+00 | L = 9.99528e-04 | P = 6.20718e+00 | step =  1.74e-05\n",
      "it n°14 | f = 6.20091e+00 | L = 9.99102e-04 | P = 6.20072e+00 | step =  2.08e-05\n",
      "it n°15 | f = 6.19582e+00 | L = 9.97441e-04 | P = 6.19421e+00 | step =  2.50e-05\n",
      "it n°16 | f = 6.17540e+00 | L = 9.99791e-04 | P = 6.17539e+00 | step =  3.00e-05\n",
      "it n°17 | f = 6.16899e+00 | L = 9.97178e-04 | P = 6.16704e+00 | step =  3.60e-05\n",
      "it n°18 | f = 6.14638e+00 | L = 9.98608e-04 | P = 6.14591e+00 | step =  4.32e-05\n",
      "it n°19 | f = 6.12601e+00 | L = 9.97757e-04 | P = 6.12478e+00 | step =  5.18e-05\n",
      "it n°20 | f = 6.08519e+00 | L = 1.00019e-03 | P = 6.08517e+00 | step =  6.22e-05\n",
      "lam = 0.012896902598338932\n",
      "it n°1 | f = 6.03516e+00 | L = 9.96470e-04 | P = 6.03209e+00 | step =  1.49e-04\n",
      "it n°2 | f = 6.40609e+00 | L = 1.04241e-03 | P = 5.95586e+00 | step =  1.79e-04\n",
      "it n°3 | f = 6.12417e+00 | L = 1.02259e-03 | P = 5.99630e+00 | step =  8.96e-05\n",
      "it n°4 | f = 6.04046e+00 | L = 1.00953e-03 | P = 6.01764e+00 | step =  4.48e-05\n",
      "it n°5 | f = 6.01436e+00 | L = 1.00091e-03 | P = 6.01414e+00 | step =  2.24e-05\n",
      "it n°6 | f = 6.00783e+00 | L = 9.95969e-04 | P = 6.00382e+00 | step =  2.69e-05\n",
      "it n°7 | f = 6.03113e+00 | L = 1.00890e-03 | P = 6.01119e+00 | step =  3.22e-05\n",
      "it n°8 | f = 5.99626e+00 | L = 9.99653e-04 | P = 5.99623e+00 | step =  1.61e-05\n",
      "it n°9 | f = 6.01772e+00 | L = 9.97616e-04 | P = 6.01633e+00 | step =  1.93e-05\n",
      "it n°10 | f = 5.99182e+00 | L = 9.97882e-04 | P = 5.99073e+00 | step =  9.67e-06\n",
      "it n°11 | f = 6.00621e+00 | L = 9.98754e-04 | P = 6.00584e+00 | step =  1.16e-05\n",
      "it n°12 | f = 5.99019e+00 | L = 9.97858e-04 | P = 5.98907e+00 | step =  5.80e-06\n",
      "it n°13 | f = 5.98989e+00 | L = 9.99472e-04 | P = 5.98983e+00 | step =  6.96e-06\n",
      "it n°14 | f = 5.99487e+00 | L = 9.98254e-04 | P = 5.99414e+00 | step =  8.36e-06\n",
      "it n°15 | f = 5.98631e+00 | L = 9.98963e-04 | P = 5.98606e+00 | step =  4.18e-06\n",
      "it n°16 | f = 5.98193e+00 | L = 9.97376e-04 | P = 5.98024e+00 | step =  5.01e-06\n",
      "it n°17 | f = 5.97178e+00 | L = 9.98409e-04 | P = 5.97117e+00 | step =  6.02e-06\n",
      "it n°18 | f = 5.98526e+00 | L = 9.98003e-04 | P = 5.98429e+00 | step =  7.22e-06\n",
      "it n°19 | f = 5.98683e+00 | L = 9.98056e-04 | P = 5.98591e+00 | step =  3.61e-06\n",
      "it n°20 | f = 5.98279e+00 | L = 9.98510e-04 | P = 5.98225e+00 | step =  1.81e-06\n",
      "lam = 0.01210124118074653\n",
      "it n°1 | f = 5.98278e+00 | L = 9.98526e-04 | P = 5.98226e+00 | step =  1.81e-06\n",
      "it n°2 | f = 5.98679e+00 | L = 9.98190e-04 | P = 5.98600e+00 | step =  2.17e-06\n",
      "it n°3 | f = 5.98273e+00 | L = 9.98092e-04 | P = 5.98184e+00 | step =  1.08e-06\n",
      "it n°4 | f = 5.98861e+00 | L = 9.98444e-04 | P = 5.98802e+00 | step =  1.30e-06\n",
      "it n°5 | f = 5.98885e+00 | L = 9.98630e-04 | P = 5.98840e+00 | step =  6.50e-07\n",
      "it n°6 | f = 5.98884e+00 | L = 9.98705e-04 | P = 5.98844e+00 | step =  3.25e-07\n",
      "it n°7 | f = 5.98893e+00 | L = 9.98713e-04 | P = 5.98853e+00 | step =  1.62e-07\n",
      "lam = 0.011147025401681825\n",
      "it n°1 | f = 5.98893e+00 | L = 9.98713e-04 | P = 5.98853e+00 | step =  1.62e-07\n",
      "lam = 0.010424576070949279\n",
      "it n°1 | f = 5.98893e+00 | L = 9.98713e-04 | P = 5.98853e+00 | step =  1.62e-07\n",
      "lam = 0.009702126740216734\n",
      "it n°1 | f = 5.98894e+00 | L = 9.98713e-04 | P = 5.98853e+00 | step =  1.62e-07\n",
      "lam = 0.008979677409484188\n",
      "it n°1 | f = 5.98892e+00 | L = 9.98713e-04 | P = 5.98851e+00 | step =  1.62e-07\n",
      "lam = 0.008257228078751642\n",
      "it n°1 | f = 5.98894e+00 | L = 9.98714e-04 | P = 5.98853e+00 | step =  1.62e-07\n",
      "lam = 0.007534778748019098\n",
      "it n°1 | f = 5.98892e+00 | L = 9.98712e-04 | P = 5.98852e+00 | step =  1.62e-07\n",
      "lam = 0.006812329417286553\n",
      "it n°1 | f = 5.98894e+00 | L = 9.98714e-04 | P = 5.98853e+00 | step =  1.62e-07\n",
      "lam = 0.0060898800865540085\n",
      "it n°1 | f = 5.98893e+00 | L = 9.98717e-04 | P = 5.98852e+00 | step =  1.62e-07\n",
      "lam = 0.005367430755821464\n",
      "it n°1 | f = 5.98893e+00 | L = 9.98717e-04 | P = 5.98852e+00 | step =  1.62e-07\n",
      "lam = 0.004644981425088919\n",
      "it n°1 | f = 5.98892e+00 | L = 9.98714e-04 | P = 5.98851e+00 | step =  1.62e-07\n",
      "lam = 0.0039225320943563746\n",
      "it n°1 | f = 5.98893e+00 | L = 9.98712e-04 | P = 5.98852e+00 | step =  1.62e-07\n",
      "lam = 0.00320008276362383\n",
      "it n°1 | f = 5.98894e+00 | L = 9.98714e-04 | P = 5.98853e+00 | step =  1.62e-07\n",
      "lam = 0.0024776334328912852\n",
      "it n°1 | f = 5.98893e+00 | L = 9.98714e-04 | P = 5.98852e+00 | step =  1.62e-07\n",
      "lam = 0.0017551841021587406\n",
      "it n°1 | f = 5.98894e+00 | L = 9.98708e-04 | P = 5.98852e+00 | step =  1.62e-07\n",
      "lam = 0.001032734771426196\n"
     ]
    }
   ],
   "source": [
    "## Initialisation\n",
    "lam = 0\n",
    "scale = 1e3\n",
    "beta = 500  # Coefficient de pénalisation (à faire varier)\n",
    "alpha = 1e-3 / 2  # Pas initial\n",
    "airgap = 4.11e-3 * np.array([1, 1, 1, 1])\n",
    "\n",
    "alpha_min = 1e-7  # Pas minimal\n",
    "N_max = 20  # Nombre d'itérations de l'algorithme d'optimisation\n",
    "n_max = 20\n",
    "\n",
    "ConstList = []\n",
    "LagrList = []\n",
    "lamList = [lam]\n",
    "LossList = []\n",
    "InductanceList = []\n",
    "AirgapList = []\n",
    "N = 0\n",
    "while N < N_max:\n",
    "    airgap, alpha, lagrList, constList, lossList, inductanceList, airgapList = innerMinimization(\n",
    "        airgap, lam, beta, alpha=2 * alpha, n_max=n_max, alpha_min=alpha_min, scale=scale\n",
    "    )\n",
    "    lam += beta * constList[-1]\n",
    "    print(f\"{lam = }\")\n",
    "    lamList.append(lam)\n",
    "    LagrList += lagrList\n",
    "    ConstList += constList\n",
    "    LossList += lossList\n",
    "    InductanceList += inductanceList\n",
    "    AirgapList += airgapList\n",
    "    N += 1\n"
   ]
  },
  {
   "cell_type": "code",
   "execution_count": 11,
   "id": "5ca142a9",
   "metadata": {},
   "outputs": [
    {
     "data": {
      "image/png": "[encoded data removed]",
      "text/plain": [
       "<Figure size 640x480 with 2 Axes>"
      ]
     },
     "metadata": {},
     "output_type": "display_data"
    }
   ],
   "source": [
    "# Display convergence\n",
    "\n",
    "ax1 = plt.plot(LossList, color=\"b\")\n",
    "plt.ylabel(\"Losses (W)\", color=\"b\")\n",
    "plt.xlabel(\"Itérations\")\n",
    "ax2 = plt.gca().twinx()\n",
    "ax2.plot(InductanceList, color=\"r\")\n",
    "plt.ylabel(\"Inductance (H)\", color=\"r\")\n",
    "plt.show()\n"
   ]
  },
  {
   "cell_type": "code",
   "execution_count": 12,
   "id": "e918ca75",
   "metadata": {},
   "outputs": [
    {
     "name": "stdout",
     "output_type": "stream",
     "text": [
      "It : 90 | P = 5.98 W | L = 1.00 mH \n"
     ]
    }
   ],
   "source": [
    "print(f\"It : {len(InductanceList)} | P = {LossList[-1]:.2f} W | L = {InductanceList[-1]*1e3 :.2f} mH \")\n"
   ]
  }
 ],
 "metadata": {
  "kernelspec": {
   "display_name": "base",
   "language": "python",
   "name": "python3"
  },
  "language_info": {
   "codemirror_mode": {
    "name": "ipython",
    "version": 3
   },
   "file_extension": ".py",
   "mimetype": "text/x-python",
   "name": "python",
   "nbconvert_exporter": "python",
   "pygments_lexer": "ipython3",
   "version": "3.12.7"
  }
 },
 "nbformat": 4,
 "nbformat_minor": 5
}
