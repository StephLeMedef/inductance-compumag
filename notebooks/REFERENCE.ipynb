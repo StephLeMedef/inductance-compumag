{
 "cells": [
  {
   "cell_type": "markdown",
   "id": "99e7d872-b983-48bf-8776-0a66a7ebe26d",
   "metadata": {},
   "source": [
    "# Reference inductor"
   ]
  },
  {
   "cell_type": "code",
   "execution_count": 1,
   "id": "da8b8758",
   "metadata": {},
   "outputs": [],
   "source": [
    "# donner un pipfile pour la config\n",
    "\n",
    "from shapeOptInductor import gen_mesh2  # noqa: F401\n",
    "import ngsolve as ngs\n",
    "from ngsolve.webgui import Draw\n",
    "import numpy as np\n",
    "import matplotlib.pyplot as plt"
   ]
  },
  {
   "cell_type": "markdown",
   "id": "cdc1f4c9",
   "metadata": {},
   "source": [
    "## 1 - Geometry and meshing"
   ]
  },
  {
   "cell_type": "code",
   "execution_count": 2,
   "id": "a5309f75-c8d7-447b-a40d-52333cde510e",
   "metadata": {},
   "outputs": [
    {
     "data": {
      "application/vnd.jupyter.widget-view+json": {
       "model_id": "b70feddd1b5a4d538ba5758a156ee309",
       "version_major": 2,
       "version_minor": 0
      },
      "text/plain": [
       "WebGuiWidget(layout=Layout(height='500px', width='100%'), value={'gui_settings': {}, 'ngsolve_version': '6.2.2…"
      ]
     },
     "metadata": {},
     "output_type": "display_data"
    },
    {
     "data": {
      "text/plain": [
       "BaseWebGuiScene"
      ]
     },
     "execution_count": 2,
     "metadata": {},
     "output_type": "execute_result"
    }
   ],
   "source": [
    "airgap = 4.11e-3 * np.array([1, 1, 1, 1])\n",
    "thickness = 1e-2\n",
    "\n",
    "maxh = 2e-3\n",
    "mesh = gen_mesh2(airgap, maxh)\n",
    "\n",
    "\n",
    "XiAir = mesh.MaterialCF({\"air\": 1})\n",
    "XiCore = mesh.MaterialCF({\"core\": 1})\n",
    "XiCoil = mesh.MaterialCF({\"coil\": 1})\n",
    "\n",
    "Draw(1 * XiAir + 2 * XiCoil + 3 * XiCore, mesh, radius=0.02)"
   ]
  },
  {
   "cell_type": "markdown",
   "id": "07ade2ab",
   "metadata": {},
   "source": [
    "## 2 - Computation of magnetic state"
   ]
  },
  {
   "cell_type": "code",
   "execution_count": 3,
   "id": "aa4e1eda-f7a4-4a2d-8db8-b6b2b8185876",
   "metadata": {},
   "outputs": [
    {
     "data": {
      "application/vnd.jupyter.widget-view+json": {
       "model_id": "1d37a0a92643447aa7b0c48dec44aaaf",
       "version_major": 2,
       "version_minor": 0
      },
      "text/plain": [
       "WebGuiWidget(layout=Layout(height='500px', width='100%'), value={'gui_settings': {}, 'ngsolve_version': '6.2.2…"
      ]
     },
     "metadata": {},
     "output_type": "display_data"
    },
    {
     "data": {
      "text/plain": [
       "BaseWebGuiScene"
      ]
     },
     "execution_count": 3,
     "metadata": {},
     "output_type": "execute_result"
    }
   ],
   "source": [
    "# Frequency\n",
    "f = 5e4  # Hz\n",
    "omega = 2 * np.pi * f\n",
    "\n",
    "# Magnetic\n",
    "mu0 = 4e-7 * np.pi\n",
    "mur = 1000\n",
    "mu_iron = mur * mu0\n",
    "delta = 0.1\n",
    "mu_coil = np.exp(-1j * delta) * mu0  #  AC losses in the copper from the imaginary part of the permeability\n",
    "\n",
    "# Current\n",
    "nb_turn = 200  # Number of turn in the coil\n",
    "Is = 2  # Source current intensity\n",
    "js = nb_turn / 2 * Is / (ngs.Integrate(XiCoil, mesh)) * XiCoil  # Source current density\n",
    "\n",
    "\n",
    "def magWeakFormComplex(a, a_):\n",
    "    bf = ngs.grad(a_) * 1 / mu_iron * ngs.grad(a) * ngs.dx(\"core\")\n",
    "    bf += ngs.grad(a_) * 1 / mu_coil * ngs.grad(a) * ngs.dx(\"coil\")\n",
    "    bf += ngs.grad(a_) * 1 / mu0 * ngs.grad(a) * ngs.dx(\"air\")\n",
    "    lf = a_ * js * ngs.dx(\"coil\")\n",
    "    return bf, lf\n",
    "\n",
    "\n",
    "def solveStateComplex(fes):\n",
    "    a, a_ = fes.TnT()\n",
    "    bf, f = magWeakFormComplex(a, a_)\n",
    "    K, F = ngs.BilinearForm(fes), ngs.LinearForm(fes)\n",
    "    K += bf\n",
    "    F += f\n",
    "    K.Assemble()\n",
    "    F.Assemble()\n",
    "    gf = ngs.GridFunction(fes)\n",
    "    Kinv = K.mat.Inverse(freedofs=fes.FreeDofs(), inverse=\"pardiso\")\n",
    "    gf.vec.data = Kinv * F.vec\n",
    "    return gf, Kinv\n",
    "\n",
    "\n",
    "fes = ngs.H1(mesh, order=1, dirichlet=\"arc|segment2|domainVert\", complex=True)\n",
    "a, _ = solveStateComplex(fes)\n",
    "Draw(ngs.Norm(a), mesh)"
   ]
  },
  {
   "cell_type": "code",
   "execution_count": 4,
   "id": "5fc5d8e6",
   "metadata": {},
   "outputs": [
    {
     "name": "stdout",
     "output_type": "stream",
     "text": [
      " L = 1000.08 µH\n",
      " P_AC = 13.16 W\n"
     ]
    }
   ],
   "source": [
    "def Inductance(a, mesh):\n",
    "    rel = XiAir / mu0 + XiCoil / mu_coil + XiCore / mu_iron\n",
    "    return 4 * thickness / (Is**2) * ngs.Integrate(rel.real * ngs.Norm(ngs.grad(a)) ** 2, mesh)\n",
    "\n",
    "\n",
    "def Losses(a, mesh):\n",
    "    rel = XiCoil / mu_coil\n",
    "    return 4 * omega / 2 * thickness * ngs.Integrate(rel.imag * ngs.Norm(ngs.grad(a)) ** 2, mesh)\n",
    "\n",
    "\n",
    "print(f\" L = {Inductance(a,mesh) * 1e6 :.2f} µH\")\n",
    "print(f\" P_AC = {Losses(a,mesh) :.2f} W\")"
   ]
  }
 ],
 "metadata": {
  "kernelspec": {
   "display_name": "ngsolve-env",
   "language": "python",
   "name": "python3"
  },
  "language_info": {
   "codemirror_mode": {
    "name": "ipython",
    "version": 3
   },
   "file_extension": ".py",
   "mimetype": "text/x-python",
   "name": "python",
   "nbconvert_exporter": "python",
   "pygments_lexer": "ipython3",
   "version": "3.13.1"
  }
 },
 "nbformat": 4,
 "nbformat_minor": 5
}
