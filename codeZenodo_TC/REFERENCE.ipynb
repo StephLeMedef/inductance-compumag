{
 "cells": [
  {
   "cell_type": "markdown",
   "id": "99e7d872-b983-48bf-8776-0a66a7ebe26d",
   "metadata": {},
   "source": [
    "# Reference design - E core inductor\n",
    "\n",
    "**Authors** : S. Gaydier, I. Zehavi, T. Cherrière, P. Gangl"
   ]
  },
  {
   "cell_type": "code",
   "execution_count": null,
   "id": "da8b8758",
   "metadata": {},
   "outputs": [],
   "source": [
    "from shapeOptInductor import gen_mesh9\n",
    "import ngsolve as ngs\n",
    "from ngsolve.webgui import Draw\n",
    "import numpy as np\n"
   ]
  },
  {
   "cell_type": "markdown",
   "id": "cdc1f4c9",
   "metadata": {},
   "source": [
    "## 1 - Geometry and meshing"
   ]
  },
  {
   "cell_type": "code",
   "execution_count": null,
   "id": "a5309f75-c8d7-447b-a40d-52333cde510e",
   "metadata": {},
   "outputs": [],
   "source": [
    "airgap = 4.11e-3  # size of the airgap\n",
    "lz = 1e-2  # thickness in the z-axis\n",
    "maxh = 2e-3  # maximum element size\n",
    "s = 4  # symmetry factor (we simulate only one quarter of the inductor)\n",
    "\n",
    "# generate the geometry (cf shapOpt.py for details)\n",
    "mesh = gen_mesh9(airgap, maxh)\n",
    "\n",
    "# define the characteristic functions of all regions\n",
    "XiAir = mesh.MaterialCF({\"air\": 1})\n",
    "XiCore = mesh.MaterialCF({\"core\": 1})\n",
    "XiCoil = mesh.MaterialCF({\"coil\": 1})\n",
    "\n",
    "# draw the meshed geometry\n",
    "Draw(1 * XiAir + 2 * XiCoil + 3 * XiCore, mesh, radius=0.02)\n"
   ]
  },
  {
   "cell_type": "markdown",
   "id": "07ade2ab",
   "metadata": {},
   "source": [
    "## 2 - Computation of (complex) magnetic state\n",
    "\n",
    "### a) Parameters definition"
   ]
  },
  {
   "cell_type": "code",
   "execution_count": null,
   "id": "aa4e1eda-f7a4-4a2d-8db8-b6b2b8185876",
   "metadata": {},
   "outputs": [],
   "source": [
    "f = 5e4  # working frequency (Hz)\n",
    "omega = 2 * np.pi * f  # rad/s\n",
    "mu0 = 4e-7 * np.pi  # void permeability (H/m)\n",
    "mur = 1000  # relative permeability of iron (no unit)\n",
    "mu_iron = mur * mu0  # permeability of iron (H/m)\n",
    "delta = 0.1  # loss angle associated with the coil (rad)\n",
    "mu_coil = np.exp(-1j * delta) * mu0  # complex permeability\n",
    "nb_turn = 200  # number of turn in the coil (no unit)\n",
    "Is = 2  # source current intensity (A)\n",
    "js = nb_turn / 2 * Is / (ngs.Integrate(XiCoil, mesh)) * XiCoil  # source current density (A/m²)\n"
   ]
  },
  {
   "cell_type": "markdown",
   "id": "5337558d",
   "metadata": {},
   "source": [
    "### b) Processing\n",
    "\n",
    "We want to find $\\underline{a}\\in H^1(\\Omega, \\mathbb C)$ solving the following equality for any $a^* \\in H^1(\\Omega, \\mathbb R)$, such that $\\underline{a} = 0$ on the outer air box boundary and vertical symmetry axis.\n",
    "\n",
    "$$ \\int_\\Omega \\nabla a^* \\cdot \\left( \\frac{\\chi_c}{\\underline{\\mu_f}} + \\frac{\\chi_f}{\\underline{\\mu_f}} +\\frac{\\chi_a}{\\underline{\\mu_0}}\\right) \\nabla \\underline{a} = \\int_\\Omega \\chi_c j$$"
   ]
  },
  {
   "cell_type": "code",
   "execution_count": null,
   "id": "29000224",
   "metadata": {},
   "outputs": [],
   "source": [
    "def magWeakFormComplex(a, a_):\n",
    "    \"\"\"Return the complex weak form of the magnetic problem, i.e, bilinear\n",
    "    and linear forms (matrix and right-hand side after discretization, respectively)\"\"\"\n",
    "\n",
    "    # bilinear form (transmission)\n",
    "    bf = ngs.grad(a_) * 1 / mu_iron * ngs.grad(a) * ngs.dx(\"core\")\n",
    "    bf += ngs.grad(a_) * 1 / mu_coil * ngs.grad(a) * ngs.dx(\"coil\")\n",
    "    bf += ngs.grad(a_) * 1 / mu0 * ngs.grad(a) * ngs.dx(\"air\")\n",
    "\n",
    "    # linear form (source)\n",
    "    lf = a_ * js * ngs.dx(\"coil\")\n",
    "\n",
    "    return bf, lf\n",
    "\n",
    "\n",
    "def solveStateComplex(mesh):\n",
    "    \"\"\"Solve the complex magnetic state\"\"\"\n",
    "    # definition of function space\n",
    "    fes = ngs.H1(mesh, order=1, dirichlet=\"arc|segment2|domainVert\", complex=True)\n",
    "    a, a_ = fes.TnT()\n",
    "\n",
    "    # definition of weak form\n",
    "    bf, f = magWeakFormComplex(a, a_)\n",
    "    K, F = ngs.BilinearForm(fes), ngs.LinearForm(fes)\n",
    "    K += bf\n",
    "    F += f\n",
    "\n",
    "    # assembly\n",
    "    K.Assemble()\n",
    "    F.Assemble()\n",
    "\n",
    "    # solving\n",
    "    gf = ngs.GridFunction(fes)\n",
    "    Kinv = K.mat.Inverse(freedofs=fes.FreeDofs(), inverse=\"pardiso\")\n",
    "    gf.vec.data = Kinv * F.vec\n",
    "\n",
    "    return gf\n",
    "\n",
    "\n",
    "# we solve and plot for the given geometry, and plot the vector potential (equipotential are flux-lines).\n",
    "a = solveStateComplex(mesh)\n",
    "Draw(a, mesh, animate_complex=True)\n"
   ]
  },
  {
   "cell_type": "markdown",
   "id": "6e83b892",
   "metadata": {},
   "source": [
    "### c) Post-processing\n",
    "\n",
    "The AC losses in conductors are computed from the imaginary part of their permeability (or in this case, reluctivity).\n",
    "The current is assumed to be sinus. In reality, it would rather be triangular, which adds harmonics that are neglected here. Since we assume the linearity of the problem linear, one needs to solve the system for each frequency with the corresponding current harmonics, and sum the losses (which is not done here for simplicity and speed).\n",
    "We compute the losses from the imaginary part of the reluctivity (in the coil)\n",
    "\n",
    "$$ P(\\underline{a}) = s l_z \\pi f \\int_\\Omega \\Im \\left( \\frac{\\chi_c}{\\underline{\\mu_c}} \\right) |\\nabla \\underline{a}|^2 \\; \\mathrm{d} x, $$\n",
    "\n",
    "and the inductance from the real part of the reluctivity (everywhere)\n",
    "\n",
    "$$ L(\\underline{a}) = \\frac{s l_z}{I^2} \\int_\\Omega \\Re \\left( \\frac{\\chi_c}{\\underline{\\mu_f}} + \\frac{\\chi_f}{\\underline{\\mu_f}} +\\frac{\\chi_a}{\\underline{\\mu_0}}\\right) |\\nabla \\underline{a}|^2 \\; \\mathrm{d} x. $$"
   ]
  },
  {
   "cell_type": "code",
   "execution_count": null,
   "id": "5fc5d8e6",
   "metadata": {},
   "outputs": [],
   "source": [
    "def Losses(a, mesh):\n",
    "    rel = XiCoil / mu_coil\n",
    "    return s * np.pi * f * lz * ngs.Integrate(rel.imag * ngs.Norm(ngs.grad(a)) ** 2, mesh)\n",
    "\n",
    "\n",
    "def Inductance(a, mesh):\n",
    "    rel = XiAir / mu0 + XiCoil / mu_coil + XiCore / mu_iron\n",
    "    return s * lz / (Is**2) * ngs.Integrate(rel.real * ngs.Norm(ngs.grad(a)) ** 2, mesh)\n",
    "\n",
    "\n",
    "print(f\" P_AC = {Losses(a,mesh) :.2f} W\")\n",
    "print(f\" L = {Inductance(a,mesh) * 1e3 :.2f} mH\")\n"
   ]
  }
 ],
 "metadata": {
  "kernelspec": {
   "display_name": "ngsolve-env",
   "language": "python",
   "name": "python3"
  },
  "language_info": {
   "codemirror_mode": {
    "name": "ipython",
    "version": 3
   },
   "file_extension": ".py",
   "mimetype": "text/x-python",
   "name": "python",
   "nbconvert_exporter": "python",
   "pygments_lexer": "ipython3"
  }
 },
 "nbformat": 4,
 "nbformat_minor": 5
}
