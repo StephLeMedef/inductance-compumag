{
 "cells": [
  {
   "cell_type": "markdown",
   "id": "99e7d872-b983-48bf-8776-0a66a7ebe26d",
   "metadata": {},
   "source": [
    "# Parametric optimization - inductor"
   ]
  },
  {
   "cell_type": "code",
   "execution_count": 10,
   "id": "da8b8758",
   "metadata": {},
   "outputs": [],
   "source": [
    "from shapeOptInductor import gen_mesh2, Id\n",
    "import ngsolve as ngs\n",
    "from ngsolve.webgui import Draw\n",
    "import numpy as np\n",
    "import matplotlib.pyplot as plt"
   ]
  },
  {
   "cell_type": "markdown",
   "id": "cdc1f4c9",
   "metadata": {},
   "source": [
    "## 1 - Geometry and meshing\n",
    "\n",
    "We define a geometry with 4 control points on the airgap."
   ]
  },
  {
   "cell_type": "code",
   "execution_count": 11,
   "id": "a5309f75-c8d7-447b-a40d-52333cde510e",
   "metadata": {},
   "outputs": [
    {
     "data": {
      "application/vnd.jupyter.widget-view+json": {
       "model_id": "4490b36780724870b73dc763bdf211cd",
       "version_major": 2,
       "version_minor": 0
      },
      "text/plain": [
       "WebGuiWidget(layout=Layout(height='500px', width='100%'), value={'gui_settings': {}, 'ngsolve_version': '6.2.2…"
      ]
     },
     "metadata": {},
     "output_type": "display_data"
    },
    {
     "data": {
      "text/plain": [
       "BaseWebGuiScene"
      ]
     },
     "execution_count": 11,
     "metadata": {},
     "output_type": "execute_result"
    }
   ],
   "source": [
    "airgap = 4.11e-3 * np.array([1, 1, 1, 1])\n",
    "lz = 1e-2           # thickness in the z-direction (m)\n",
    "s = 4               # symmetry factor\n",
    "\n",
    "maxh = 2e-3\n",
    "mesh = gen_mesh2(airgap, maxh)\n",
    "\n",
    "XiAir = mesh.MaterialCF({\"air\": 1})\n",
    "XiCore = mesh.MaterialCF({\"core\": 1})\n",
    "XiCoil = mesh.MaterialCF({\"coil\": 1})\n",
    "\n",
    "Draw(1 * XiAir + 2 * XiCoil + 3 * XiCore, mesh, radius=0.02)"
   ]
  },
  {
   "cell_type": "markdown",
   "id": "07ade2ab",
   "metadata": {},
   "source": [
    "## 2 - State problem\n",
    "\n",
    "### a) Parameters definition"
   ]
  },
  {
   "cell_type": "code",
   "execution_count": 12,
   "id": "aa4e1eda-f7a4-4a2d-8db8-b6b2b8185876",
   "metadata": {},
   "outputs": [],
   "source": [
    "f = 5e4                 # working frequency (Hz)\n",
    "omega = 2 * np.pi * f   # rad/s\n",
    "mu0 = 4e-7 * np.pi      # void permeability (H/m)\n",
    "mur = 1000              # relative permeability of iron (no unit)\n",
    "mu_iron = mur * mu0     # permeability of iron (H/m)\n",
    "delta = 0.1             # loss angle associated with the coil (rad)\n",
    "mu_coil = np.exp(-1j * delta) * mu0  # complex permeability\n",
    "nb_turn = 200           # number of turn in the coil (no unit)\n",
    "Is = 2                  # source current intensity (A)\n",
    "js = nb_turn / 2 * Is / (ngs.Integrate(XiCoil, mesh)) * XiCoil  # source current density (A/m²)"
   ]
  },
  {
   "cell_type": "markdown",
   "id": "0b40cb03",
   "metadata": {},
   "source": [
    "### b) Definition of the magnetic problem"
   ]
  },
  {
   "cell_type": "code",
   "execution_count": 13,
   "id": "dfebbfd6",
   "metadata": {},
   "outputs": [],
   "source": [
    "def magWeakFormComplex(a, a_):\n",
    "    ''' Return the complex weak form of the magnetic problem, i.e, bilinear \n",
    "    and linear forms (matrix and right-hand side after discretization, respectively)'''\n",
    "\n",
    "    # bilinear form (transmission)\n",
    "    bf = ngs.grad(a_) * 1 / mu_iron * ngs.grad(a) * ngs.dx(\"core\")\n",
    "    bf += ngs.grad(a_) * 1 / mu_coil * ngs.grad(a) * ngs.dx(\"coil\")\n",
    "    bf += ngs.grad(a_) * 1 / mu0 * ngs.grad(a) * ngs.dx(\"air\")\n",
    "\n",
    "    # linear form (source)\n",
    "    lf = a_ * js * ngs.dx(\"coil\")\n",
    "\n",
    "    return bf, lf\n",
    "\n",
    "def solveStateComplex(mesh):\n",
    "    ''' Solve the complex magnetic state'''\n",
    "    # definition of function space\n",
    "    fes = ngs.H1(mesh, order=1, dirichlet=\"arc|segment2|domainVert\", complex=True)\n",
    "    a, a_ = fes.TnT()\n",
    "\n",
    "    # definition of weak form\n",
    "    bf, f = magWeakFormComplex(a, a_)\n",
    "    K, F = ngs.BilinearForm(fes), ngs.LinearForm(fes)\n",
    "    K += bf; F += f\n",
    "\n",
    "    # assembly\n",
    "    K.Assemble(); F.Assemble()\n",
    "\n",
    "    # solving\n",
    "    gf = ngs.GridFunction(fes)\n",
    "    Kinv = K.mat.Inverse(freedofs=fes.FreeDofs(), inverse=\"pardiso\")\n",
    "    gf.vec.data = Kinv * F.vec\n",
    "\n",
    "    return gf, Kinv # returning Kinv speed up adjoint calculation"
   ]
  },
  {
   "cell_type": "markdown",
   "id": "a79e72fe",
   "metadata": {},
   "source": [
    "### c) Definition of the post-processed quantities\n",
    "\n",
    "We define the losses and inductance, with the directional derivative of their local quantities."
   ]
  },
  {
   "cell_type": "code",
   "execution_count": 14,
   "id": "5fc5d8e6",
   "metadata": {},
   "outputs": [],
   "source": [
    "def Inductance(a, mesh):\n",
    "    rel = XiAir / mu0 + XiCoil / mu_coil + XiCore / mu_iron\n",
    "    return s * lz / (Is**2) * ngs.Integrate(rel.real * ngs.Norm(ngs.grad(a)) ** 2, mesh)\n",
    "\n",
    "def dInductance(a, p_, mesh):\n",
    "    rel = XiAir / mu0 + XiCoil / mu_coil + XiCore / mu_iron\n",
    "    return 2 * s * lz / (Is**2) * ngs.InnerProduct(rel.real * ngs.grad(a), ngs.grad(p_)) * ngs.dx()\n",
    "\n",
    "def Losses(a, mesh):\n",
    "    rel = XiCoil / mu_coil\n",
    "    return s * np.pi * f * lz * ngs.Integrate(rel.imag * ngs.Norm(ngs.grad(a)) ** 2, mesh)\n",
    "\n",
    "\n",
    "def dLosses(a, p_, mesh):\n",
    "    rel = XiCoil / mu_coil\n",
    "    return 2 * s * np.pi * f * lz * ngs.InnerProduct(rel.imag * ngs.grad(a), ngs.grad(p_)) * ngs.dx()"
   ]
  },
  {
   "cell_type": "markdown",
   "id": "61b6e2c9",
   "metadata": {},
   "source": [
    "## 3 - Adjoint problem"
   ]
  },
  {
   "cell_type": "code",
   "execution_count": 15,
   "id": "770a9678",
   "metadata": {},
   "outputs": [],
   "source": [
    "def solveAdjoint(a0, df, Kinv):\n",
    "    \"\"\"Solve the adjoint equation for a given df\"\"\"\n",
    "    fes = a0.space\n",
    "    p, p_ = fes.TnT()\n",
    "    f = ngs.LinearForm(fes)\n",
    "    f += -1 * df(a0, p_, fes.mesh)\n",
    "    f.Assemble()\n",
    "    gf = ngs.GridFunction(fes)\n",
    "    gf.vec.data = Kinv.H * f.vec\n",
    "    return gf"
   ]
  },
  {
   "cell_type": "markdown",
   "id": "7d259f4c",
   "metadata": {},
   "source": [
    "## 4 - Shape derivative"
   ]
  },
  {
   "cell_type": "code",
   "execution_count": 16,
   "id": "0a1c5c93",
   "metadata": {},
   "outputs": [],
   "source": [
    "def SDLosses(a0, p0):\n",
    "    \"\"\"Shape derivative for the losses inside the coil\"\"\"\n",
    "    mesh = a0.space.mesh\n",
    "    FESReal = ngs.VectorH1(mesh)\n",
    "    FEScomplex = ngs.VectorH1(mesh, complex = True)\n",
    "    X = FEScomplex.TestFunction()\n",
    "\n",
    "    rel = (1 / mu0) * XiAir + (1 / mu_coil) * XiCoil + (1 / mu_iron) * XiCore\n",
    "    coeff_losses = s * np.pi * lz * (1 / mu_coil).imag\n",
    "    dA = ngs.div(X) * Id - ngs.grad(X) - ngs.grad(X).trans\n",
    "\n",
    "    dLOmega = ngs.LinearForm(FEScomplex)\n",
    "    dLOmega += coeff_losses * ngs.InnerProduct(dA * ngs.grad(a0), ngs.grad(a0)) * ngs.dx(\"coil\")\n",
    "    dLOmega += -js * XiCoil * ngs.div(X) * p0 * ngs.dx\n",
    "    dLOmega += ngs.InnerProduct(rel * dA * ngs.grad(a0), ngs.grad(p0)) * ngs.dx\n",
    "    dLOmega.Assemble()\n",
    "\n",
    "    dJ = ngs.GridFunction(FESReal)\n",
    "    dJ.vec.FV().NumPy()[:] = np.real(dLOmega.vec.FV().NumPy()[:])\n",
    "    return dJ\n",
    "\n",
    "def SDInductance(a0, p0):\n",
    "    \"\"\"Shape derivative for the inductance\"\"\"\n",
    "    mesh = a0.space.mesh\n",
    "    FESReal = ngs.VectorH1(mesh)\n",
    "    FEScomplex = ngs.VectorH1(mesh, complex = True)\n",
    "    X = FEScomplex.TestFunction()\n",
    "\n",
    "    rel = (1 / mu0) * XiAir + (1 / mu_coil) * XiCoil + (1 / mu_iron) * XiCore\n",
    "    Id = ngs.CoefficientFunction((1, 0, 0, 1), dims=(2, 2))  # Identity matrix\n",
    "    coeff_induc = s * lz / (Is**2) * rel.real\n",
    "    dA = ngs.div(X) * Id - ngs.grad(X) - ngs.grad(X).trans\n",
    "\n",
    "    dLOmega = ngs.LinearForm(FEScomplex)\n",
    "    dLOmega += coeff_induc * ngs.InnerProduct(dA * ngs.grad(a0), ngs.grad(a0)) * ngs.dx\n",
    "    dLOmega += -js * ngs.div(X) * p0 * ngs.dx\n",
    "    dLOmega += ngs.InnerProduct(rel * dA * ngs.grad(a0), ngs.grad(p0)) * ngs.dx\n",
    "    dLOmega.Assemble()\n",
    "\n",
    "    dJ = ngs.GridFunction(FESReal)\n",
    "    dJ.vec.FV().NumPy()[:] = np.real(dLOmega.vec.FV().NumPy()[:])\n",
    "    return dJ"
   ]
  },
  {
   "cell_type": "markdown",
   "id": "0f8c67f0",
   "metadata": {},
   "source": [
    "### Gradient"
   ]
  },
  {
   "cell_type": "code",
   "execution_count": 17,
   "id": "a6f5fac6",
   "metadata": {},
   "outputs": [],
   "source": [
    "from shapeOptInductor import referenceVelocity\n",
    "\n",
    "def shapeGrad(a0, p0, dJ):\n",
    "    v11, v12, v21, v22 = referenceVelocity(a0.space.mesh)\n",
    "    dJlf = dJ(a0, p0)\n",
    "    FES = ngs.VectorH1(a0.space.mesh)\n",
    "    dJ = ngs.GridFunction(FES)\n",
    "    dJ.vec.FV().NumPy()[:] = np.real(dJlf.vec.FV().NumPy()[:])\n",
    "    g11 = ngs.InnerProduct(dJ.vec, v11.vec)\n",
    "    g12 = ngs.InnerProduct(dJ.vec, v12.vec)\n",
    "    g21 = ngs.InnerProduct(dJ.vec, v21.vec)\n",
    "    g22 = ngs.InnerProduct(dJ.vec, v22.vec)\n",
    "    return g11, g12, g21, g22"
   ]
  },
  {
   "cell_type": "markdown",
   "id": "6ef7e8b1",
   "metadata": {},
   "source": [
    "## 3 - Optimization\n",
    "\n",
    "### a) Optimization algorithm\n",
    "We use an augmented Lagrangian algorithm (saddle point problem) : we maximize with respect to a Lagrange multiplier $l$ a sequence of inner minimization problem with respect to the optimization variables $e$ :\n",
    "\n",
    "$$ \\mathcal L(e,\\lambda) = P(e) + \\lambda (L(e) - L_0) + \\frac{\\beta}{2} (L(e) - L_0)^2 $$"
   ]
  },
  {
   "cell_type": "code",
   "execution_count": 18,
   "id": "aa979b69",
   "metadata": {},
   "outputs": [],
   "source": [
    "# augmented lagrangian\n",
    "L_target = 1e-3\n",
    "\n",
    "def innerMinimization(airgap, lam, beta, alpha, n_max=50, alpha_min=1e-5, scale=1e4):\n",
    "    n = 0\n",
    "    airgapMin = 1e-4\n",
    "    airgapMax = 1.49e-2\n",
    "    mesh = gen_mesh2(airgap, maxh=maxh)\n",
    "    a, Kinv = solveStateComplex(mesh)\n",
    "    loss = Losses(a, mesh)\n",
    "    ind = Inductance(a, mesh)\n",
    "    objectiveHistory = [loss + lam * (scale * (ind - L_target)) + beta / 2 * (scale * (ind - L_target)) ** 2]\n",
    "    constraintHistory = [ind - L_target]\n",
    "    airgapHistory = [airgap.copy()]\n",
    "    inductanceHistory = [ind]\n",
    "    lossesHistory = [loss]\n",
    "    while n < n_max and alpha > alpha_min:\n",
    "        mesh = gen_mesh2(airgap, maxh=maxh)\n",
    "        # 1) state computation :\n",
    "        a, Kinv = solveStateComplex(mesh)\n",
    "\n",
    "        # 2) adjoint computation :\n",
    "        pInd = solveAdjoint(a, dInductance, Kinv)\n",
    "        pLos = solveAdjoint(a, dLosses, Kinv)\n",
    "\n",
    "        # 3) gradient evaluation :\n",
    "        gradient = np.array(shapeGrad(a, pLos, SDLosses))\n",
    "        gradient += lam * scale * np.array(shapeGrad(a, pInd, SDInductance))\n",
    "        gradient += beta * scale**2 * (Inductance(a, mesh) - L_target) * np.array(shapeGrad(a, pInd, SDInductance))\n",
    "\n",
    "        # 4) update :\n",
    "        airgapTest = airgap - alpha * gradient / np.linalg.norm(gradient)\n",
    "        n += 1\n",
    "\n",
    "        # 5) projection :\n",
    "        airgapTest[airgapTest < airgapMin] = airgapMin\n",
    "        airgapTest[airgapTest > airgapMax] = airgapMax\n",
    "\n",
    "        # 6) basic step control :\n",
    "        meshTest = gen_mesh2(airgapTest, maxh=maxh)\n",
    "        a_test, _ = solveStateComplex(meshTest)\n",
    "        loss = Losses(a_test, mesh)\n",
    "        ind = Inductance(a_test, mesh)\n",
    "        objectiveHistory.append(loss + lam * scale * (ind - L_target) + beta / 2 * (scale * (ind - L_target)) ** 2)\n",
    "        constraintHistory.append(ind - L_target)\n",
    "        inductanceHistory.append(ind)\n",
    "        lossesHistory.append(loss)\n",
    "\n",
    "        print(\n",
    "            f\"it n°{n} | f = {objectiveHistory[-1] :.5e} | L = {inductanceHistory[-1]:.5e} | P = {lossesHistory[-1]:.5e} | step = {alpha : .2e}\"\n",
    "        )\n",
    "\n",
    "        if objectiveHistory[-1] >= objectiveHistory[-2]:\n",
    "            alpha = alpha / 2\n",
    "            objectiveHistory.pop()\n",
    "            constraintHistory.pop()\n",
    "            inductanceHistory.pop()\n",
    "            lossesHistory.pop()\n",
    "        elif objectiveHistory[-1] < objectiveHistory[-2]:\n",
    "            alpha = alpha * 1.2\n",
    "            airgap = airgapTest\n",
    "            airgapHistory.append(airgap)\n",
    "    return airgap, alpha, objectiveHistory, constraintHistory, lossesHistory, inductanceHistory, airgapHistory\n",
    "\n"
   ]
  },
  {
   "cell_type": "markdown",
   "id": "b5a08135",
   "metadata": {},
   "source": [
    "### b) Optimization Loop"
   ]
  },
  {
   "cell_type": "code",
   "execution_count": 19,
   "id": "1f9a82e5",
   "metadata": {},
   "outputs": [
    {
     "name": "stdout",
     "output_type": "stream",
     "text": [
      "it n°1 | f = 1.56137e+01 | L = 8.75634e-04 | P = 1.17470e+01 | step =  1.00e-03\n",
      "it n°2 | f = 1.36113e+01 | L = 9.31703e-04 | P = 1.24452e+01 | step =  5.00e-04\n",
      "it n°3 | f = 1.31069e+01 | L = 9.62756e-04 | P = 1.27601e+01 | step =  2.50e-04\n",
      "it n°4 | f = 1.27139e+01 | L = 9.63012e-04 | P = 1.23719e+01 | step =  3.00e-04\n",
      "it n°5 | f = 1.21328e+01 | L = 9.83101e-04 | P = 1.20614e+01 | step =  3.60e-04\n",
      "it n°6 | f = 1.16762e+01 | L = 9.82871e-04 | P = 1.16028e+01 | step =  4.32e-04\n",
      "it n°7 | f = 1.11407e+01 | L = 9.95674e-04 | P = 1.11360e+01 | step =  5.18e-04\n",
      "it n°8 | f = 1.05312e+01 | L = 1.00898e-03 | P = 1.05111e+01 | step =  6.22e-04\n",
      "it n°9 | f = 9.75596e+00 | L = 1.00397e-03 | P = 9.75202e+00 | step =  7.46e-04\n",
      "it n°10 | f = 1.06902e+01 | L = 1.08273e-03 | P = 8.97905e+00 | step =  8.96e-04\n",
      "it n°11 | f = 9.52946e+00 | L = 1.02685e-03 | P = 9.34917e+00 | step =  4.48e-04\n",
      "it n°12 | f = 9.16227e+00 | L = 9.65895e-04 | P = 8.87147e+00 | step =  5.37e-04\n",
      "it n°13 | f = 1.80668e+01 | L = 1.19551e-03 | P = 8.51116e+00 | step =  6.45e-04\n",
      "it n°14 | f = 9.96137e+00 | L = 1.07134e-03 | P = 8.68918e+00 | step =  3.22e-04\n",
      "it n°15 | f = 8.92308e+00 | L = 1.02349e-03 | P = 8.78513e+00 | step =  1.61e-04\n",
      "it n°16 | f = 8.61551e+00 | L = 1.00598e-03 | P = 8.60656e+00 | step =  1.93e-04\n",
      "it n°17 | f = 8.41554e+00 | L = 1.00108e-03 | P = 8.41525e+00 | step =  2.32e-04\n",
      "it n°18 | f = 8.25924e+00 | L = 1.01378e-03 | P = 8.21179e+00 | step =  2.79e-04\n",
      "it n°19 | f = 7.97378e+00 | L = 9.88845e-04 | P = 7.94267e+00 | step =  3.34e-04\n",
      "it n°20 | f = 1.04035e+01 | L = 1.10378e-03 | P = 7.71079e+00 | step =  4.01e-04\n",
      "lam = -0.005577640675970166\n",
      "it n°1 | f = 1.03985e+01 | L = 1.10364e-03 | P = 7.71358e+00 | step =  4.01e-04\n",
      "it n°2 | f = 8.25238e+00 | L = 1.04154e-03 | P = 7.82132e+00 | step =  2.01e-04\n",
      "it n°3 | f = 7.95768e+00 | L = 1.01634e-03 | P = 7.89099e+00 | step =  1.00e-04\n",
      "it n°4 | f = 7.81383e+00 | L = 9.99066e-04 | P = 7.81361e+00 | step =  1.20e-04\n",
      "it n°5 | f = 7.69558e+00 | L = 1.00648e-03 | P = 7.68511e+00 | step =  1.44e-04\n",
      "it n°6 | f = 7.57770e+00 | L = 9.98787e-04 | P = 7.57733e+00 | step =  1.73e-04\n",
      "it n°7 | f = 7.51120e+00 | L = 1.01809e-03 | P = 7.42945e+00 | step =  2.08e-04\n",
      "it n°8 | f = 7.43642e+00 | L = 9.73373e-04 | P = 7.25902e+00 | step =  2.50e-04\n",
      "it n°9 | f = 1.30516e+01 | L = 1.15319e-03 | P = 7.18536e+00 | step =  3.00e-04\n",
      "it n°10 | f = 8.20895e+00 | L = 1.06256e-03 | P = 7.23071e+00 | step =  1.50e-04\n",
      "it n°11 | f = 7.37403e+00 | L = 1.02278e-03 | P = 7.24444e+00 | step =  7.49e-05\n",
      "it n°12 | f = 7.21717e+00 | L = 1.00699e-03 | P = 7.20501e+00 | step =  8.99e-05\n",
      "it n°13 | f = 7.12957e+00 | L = 9.95487e-04 | P = 7.12446e+00 | step =  1.08e-04\n",
      "it n°14 | f = 7.10497e+00 | L = 1.01483e-03 | P = 7.05004e+00 | step =  1.29e-04\n",
      "it n°15 | f = 7.06875e+00 | L = 9.80013e-04 | P = 6.96877e+00 | step =  1.55e-04\n",
      "it n°16 | f = 9.21383e+00 | L = 1.09592e-03 | P = 6.91432e+00 | step =  1.86e-04\n",
      "it n°17 | f = 7.34228e+00 | L = 1.03980e-03 | P = 6.94643e+00 | step =  9.32e-05\n",
      "it n°18 | f = 6.99008e+00 | L = 1.01311e-03 | P = 6.94720e+00 | step =  4.66e-05\n",
      "it n°19 | f = 6.94839e+00 | L = 1.00981e-03 | P = 6.92439e+00 | step =  5.59e-05\n",
      "it n°20 | f = 6.88480e+00 | L = 9.96838e-04 | P = 6.88228e+00 | step =  6.71e-05\n",
      "lam = -0.007158794867211061\n",
      "it n°1 | f = 6.86331e+00 | L = 1.01508e-03 | P = 6.80653e+00 | step =  1.61e-04\n",
      "it n°2 | f = 6.93153e+00 | L = 9.69083e-04 | P = 6.69235e+00 | step =  1.93e-04\n",
      "it n°3 | f = 6.79390e+00 | L = 9.84559e-04 | P = 6.73419e+00 | step =  9.66e-05\n",
      "it n°4 | f = 7.36496e+00 | L = 1.05130e-03 | P = 6.70747e+00 | step =  1.16e-04\n",
      "it n°5 | f = 6.79882e+00 | L = 1.01928e-03 | P = 6.70606e+00 | step =  5.80e-05\n",
      "it n°6 | f = 6.75633e+00 | L = 1.00908e-03 | P = 6.73577e+00 | step =  2.90e-05\n",
      "it n°7 | f = 6.71414e+00 | L = 1.00487e-03 | P = 6.70825e+00 | step =  3.48e-05\n",
      "it n°8 | f = 6.70751e+00 | L = 9.98618e-04 | P = 6.70703e+00 | step =  4.17e-05\n",
      "it n°9 | f = 6.65815e+00 | L = 1.00020e-03 | P = 6.65814e+00 | step =  5.01e-05\n",
      "it n°10 | f = 6.62807e+00 | L = 9.97380e-04 | P = 6.62634e+00 | step =  6.01e-05\n",
      "it n°11 | f = 6.61107e+00 | L = 1.00456e-03 | P = 6.60592e+00 | step =  7.21e-05\n",
      "it n°12 | f = 6.54965e+00 | L = 9.94648e-04 | P = 6.54245e+00 | step =  8.65e-05\n",
      "it n°13 | f = 6.64905e+00 | L = 1.02379e-03 | P = 6.50776e+00 | step =  1.04e-04\n",
      "it n°14 | f = 6.55957e+00 | L = 1.01113e-03 | P = 6.52866e+00 | step =  5.19e-05\n",
      "it n°15 | f = 6.53967e+00 | L = 1.00218e-03 | P = 6.53850e+00 | step =  2.60e-05\n",
      "it n°16 | f = 6.53004e+00 | L = 1.00007e-03 | P = 6.53004e+00 | step =  3.11e-05\n",
      "it n°17 | f = 6.49507e+00 | L = 9.98545e-04 | P = 6.49453e+00 | step =  3.74e-05\n",
      "it n°18 | f = 6.47379e+00 | L = 9.98948e-04 | P = 6.47350e+00 | step =  4.49e-05\n",
      "it n°19 | f = 6.45857e+00 | L = 9.99483e-04 | P = 6.45850e+00 | step =  5.38e-05\n",
      "it n°20 | f = 6.40806e+00 | L = 9.96952e-04 | P = 6.40571e+00 | step =  6.46e-05\n",
      "lam = -0.00868297876568979\n",
      "it n°1 | f = 6.38614e+00 | L = 1.01429e-03 | P = 6.33524e+00 | step =  1.55e-04\n",
      "it n°2 | f = 6.62570e+00 | L = 9.61501e-04 | P = 6.25483e+00 | step =  1.86e-04\n",
      "it n°3 | f = 6.37368e+00 | L = 9.82141e-04 | P = 6.29378e+00 | step =  9.30e-05\n",
      "it n°4 | f = 7.75484e+00 | L = 1.07684e-03 | P = 6.27936e+00 | step =  1.12e-04\n",
      "it n°5 | f = 6.50141e+00 | L = 1.02851e-03 | P = 6.29841e+00 | step =  5.58e-05\n",
      "it n°6 | f = 6.34411e+00 | L = 1.01270e-03 | P = 6.30389e+00 | step =  2.79e-05\n",
      "it n°7 | f = 6.30519e+00 | L = 1.01049e-03 | P = 6.27779e+00 | step =  3.35e-05\n",
      "it n°8 | f = 6.26714e+00 | L = 9.96842e-04 | P = 6.26462e+00 | step =  4.02e-05\n",
      "it n°9 | f = 6.25582e+00 | L = 1.00249e-03 | P = 6.25429e+00 | step =  4.82e-05\n",
      "it n°10 | f = 6.21808e+00 | L = 9.94508e-04 | P = 6.21049e+00 | step =  5.79e-05\n",
      "it n°11 | f = 6.30222e+00 | L = 1.02154e-03 | P = 6.18639e+00 | step =  6.94e-05\n",
      "it n°12 | f = 6.23406e+00 | L = 1.01000e-03 | P = 6.20915e+00 | step =  3.47e-05\n",
      "it n°13 | f = 6.20842e+00 | L = 9.99586e-04 | P = 6.20838e+00 | step =  1.74e-05\n",
      "it n°14 | f = 6.20504e+00 | L = 9.99034e-04 | P = 6.20480e+00 | step =  2.08e-05\n",
      "it n°15 | f = 6.18578e+00 | L = 9.98516e-04 | P = 6.18522e+00 | step =  2.50e-05\n",
      "it n°16 | f = 6.18043e+00 | L = 1.00024e-03 | P = 6.18042e+00 | step =  3.00e-05\n",
      "it n°17 | f = 6.14880e+00 | L = 9.96404e-04 | P = 6.14553e+00 | step =  3.60e-05\n",
      "it n°18 | f = 6.13533e+00 | L = 1.00237e-03 | P = 6.13395e+00 | step =  4.32e-05\n",
      "it n°19 | f = 6.13691e+00 | L = 9.94612e-04 | P = 6.12961e+00 | step =  5.18e-05\n",
      "it n°20 | f = 6.12681e+00 | L = 9.97726e-04 | P = 6.12550e+00 | step =  2.59e-05\n",
      "lam = -0.009819854927865152\n",
      "it n°1 | f = 6.09357e+00 | L = 1.00360e-03 | P = 6.09036e+00 | step =  6.22e-05\n",
      "it n°2 | f = 6.07950e+00 | L = 9.91721e-04 | P = 6.06228e+00 | step =  7.46e-05\n",
      "it n°3 | f = 6.59223e+00 | L = 1.04736e-03 | P = 6.03191e+00 | step =  8.96e-05\n",
      "it n°4 | f = 6.18918e+00 | L = 1.02315e-03 | P = 6.05538e+00 | step =  4.48e-05\n",
      "it n°5 | f = 6.07692e+00 | L = 1.01026e-03 | P = 6.05073e+00 | step =  2.24e-05\n",
      "it n°6 | f = 6.04913e+00 | L = 9.96796e-04 | P = 6.04653e+00 | step =  2.69e-05\n",
      "it n°7 | f = 6.04240e+00 | L = 9.99696e-04 | P = 6.04237e+00 | step =  3.22e-05\n",
      "it n°8 | f = 6.02193e+00 | L = 9.96280e-04 | P = 6.01843e+00 | step =  3.87e-05\n",
      "it n°9 | f = 5.98861e+00 | L = 1.00356e-03 | P = 5.98547e+00 | step =  4.64e-05\n",
      "it n°10 | f = 5.99129e+00 | L = 9.92023e-04 | P = 5.97531e+00 | step =  5.57e-05\n",
      "it n°11 | f = 5.99770e+00 | L = 9.94803e-04 | P = 5.99089e+00 | step =  2.79e-05\n",
      "it n°12 | f = 6.00313e+00 | L = 9.97047e-04 | P = 6.00092e+00 | step =  1.39e-05\n",
      "it n°13 | f = 5.98922e+00 | L = 9.98471e-04 | P = 5.98862e+00 | step =  6.96e-06\n",
      "it n°14 | f = 6.00628e+00 | L = 9.99128e-04 | P = 6.00608e+00 | step =  3.48e-06\n",
      "it n°15 | f = 5.99468e+00 | L = 9.99498e-04 | P = 5.99461e+00 | step =  1.74e-06\n",
      "it n°16 | f = 5.99583e+00 | L = 9.99750e-04 | P = 5.99581e+00 | step =  8.71e-07\n",
      "it n°17 | f = 5.99611e+00 | L = 9.99818e-04 | P = 5.99610e+00 | step =  4.35e-07\n",
      "it n°18 | f = 5.99634e+00 | L = 9.99638e-04 | P = 5.99630e+00 | step =  2.18e-07\n",
      "it n°19 | f = 5.99634e+00 | L = 9.99749e-04 | P = 5.99633e+00 | step =  1.09e-07\n",
      "lam = -0.00803887681512369\n",
      "it n°1 | f = 5.99635e+00 | L = 9.99758e-04 | P = 5.99634e+00 | step =  1.09e-07\n",
      "it n°2 | f = 5.99636e+00 | L = 9.99468e-04 | P = 5.99628e+00 | step =  1.31e-07\n",
      "lam = -0.008159906995243656\n",
      "it n°1 | f = 5.99641e+00 | L = 9.99407e-04 | P = 5.99631e+00 | step =  1.31e-07\n",
      "it n°2 | f = 5.99625e+00 | L = 9.99460e-04 | P = 5.99617e+00 | step =  1.57e-07\n",
      "it n°3 | f = 5.99621e+00 | L = 9.99452e-04 | P = 5.99613e+00 | step =  1.88e-07\n",
      "it n°4 | f = 5.99604e+00 | L = 9.99565e-04 | P = 5.99599e+00 | step =  2.26e-07\n",
      "it n°5 | f = 5.99615e+00 | L = 9.99187e-04 | P = 5.99598e+00 | step =  2.71e-07\n",
      "it n°6 | f = 5.99604e+00 | L = 9.99415e-04 | P = 5.99595e+00 | step =  1.35e-07\n",
      "lam = -0.008377575642769731\n",
      "it n°1 | f = 5.99607e+00 | L = 9.99442e-04 | P = 5.99599e+00 | step =  1.35e-07\n",
      "it n°2 | f = 5.99601e+00 | L = 9.99447e-04 | P = 5.99593e+00 | step =  1.62e-07\n",
      "it n°3 | f = 5.99587e+00 | L = 9.99467e-04 | P = 5.99579e+00 | step =  1.95e-07\n",
      "it n°4 | f = 5.99588e+00 | L = 9.99467e-04 | P = 5.99581e+00 | step =  2.34e-07\n",
      "it n°5 | f = 5.99614e+00 | L = 9.99292e-04 | P = 5.99601e+00 | step =  1.17e-07\n",
      "lam = -0.008644274827854088\n",
      "it n°1 | f = 5.99613e+00 | L = 9.99313e-04 | P = 5.99601e+00 | step =  1.17e-07\n",
      "lam = -0.008917835878763882\n",
      "it n°1 | f = 5.99618e+00 | L = 9.99316e-04 | P = 5.99605e+00 | step =  1.17e-07\n",
      "lam = -0.009191396929673676\n",
      "it n°1 | f = 5.99614e+00 | L = 9.99292e-04 | P = 5.99601e+00 | step =  1.17e-07\n",
      "lam = -0.00946495798058347\n",
      "it n°1 | f = 5.99609e+00 | L = 9.99364e-04 | P = 5.99598e+00 | step =  1.17e-07\n",
      "lam = -0.009738519031493264\n",
      "it n°1 | f = 5.99616e+00 | L = 9.99318e-04 | P = 5.99604e+00 | step =  1.17e-07\n",
      "lam = -0.010012080082403058\n",
      "it n°1 | f = 5.99615e+00 | L = 9.99352e-04 | P = 5.99604e+00 | step =  1.17e-07\n",
      "lam = -0.010285641133312852\n",
      "it n°1 | f = 5.99608e+00 | L = 9.99408e-04 | P = 5.99599e+00 | step =  1.17e-07\n",
      "lam = -0.010559202184222646\n",
      "it n°1 | f = 5.99618e+00 | L = 9.99316e-04 | P = 5.99605e+00 | step =  1.17e-07\n",
      "lam = -0.01083276323513244\n",
      "it n°1 | f = 5.99611e+00 | L = 9.99389e-04 | P = 5.99601e+00 | step =  1.17e-07\n",
      "lam = -0.011106324286042234\n",
      "it n°1 | f = 5.99609e+00 | L = 9.99383e-04 | P = 5.99599e+00 | step =  1.17e-07\n",
      "lam = -0.011379885336952028\n",
      "it n°1 | f = 5.99608e+00 | L = 9.99408e-04 | P = 5.99599e+00 | step =  1.17e-07\n",
      "lam = -0.011653446387861822\n",
      "it n°1 | f = 5.99609e+00 | L = 9.99411e-04 | P = 5.99600e+00 | step =  1.17e-07\n",
      "lam = -0.011927007438771616\n"
     ]
    }
   ],
   "source": [
    "## Initialisation\n",
    "\n",
    "lam = 0\n",
    "scale = 1e3\n",
    "beta = 500  # Coefficient de pénalisation (à faire varier)\n",
    "alpha = 1e-3 / 2  # Pas initial\n",
    "airgap = 4.11e-3 * np.array([1, 1, 1, 1])\n",
    "\n",
    "alpha_min = 1e-7  # Pas minimal\n",
    "N_max = 20  # Nombre d'itérations de l'algorithme d'optimisation\n",
    "n_max = 20\n",
    "\n",
    "ConstList = []\n",
    "LagrList = []\n",
    "lamList = [lam]\n",
    "LossList = []\n",
    "InductanceList = []\n",
    "AirgapList = []\n",
    "N = 0\n",
    "while N < N_max:\n",
    "    airgap, alpha, lagrList, constList, lossList, inductanceList, airgapList = innerMinimization(\n",
    "        airgap, lam, beta, alpha=2 * alpha, n_max=n_max, alpha_min=alpha_min, scale=scale\n",
    "    )\n",
    "    lam += beta * constList[-1]\n",
    "    print(f\"{lam = }\")\n",
    "    lamList.append(lam)\n",
    "    LagrList += lagrList\n",
    "    ConstList += constList\n",
    "    LossList += lossList\n",
    "    InductanceList += inductanceList\n",
    "    AirgapList += airgapList\n",
    "    N += 1"
   ]
  },
  {
   "cell_type": "code",
   "execution_count": 20,
   "id": "5ca142a9",
   "metadata": {},
   "outputs": [
    {
     "data": {
      "image/png": "[encoded data removed]",
      "text/plain": [
       "<Figure size 640x480 with 2 Axes>"
      ]
     },
     "metadata": {},
     "output_type": "display_data"
    }
   ],
   "source": [
    "# Display convergence\n",
    "\n",
    "ax1 = plt.plot(LossList, color=\"b\")\n",
    "plt.ylabel(\"Losses (W)\", color=\"b\")\n",
    "plt.xlabel(\"Itérations\")\n",
    "ax2 = plt.gca().twinx()\n",
    "ax2.plot(InductanceList, color=\"r\")\n",
    "plt.ylabel(\"Inductance (H)\", color=\"r\")\n",
    "plt.show()"
   ]
  },
  {
   "cell_type": "code",
   "execution_count": 21,
   "id": "e918ca75",
   "metadata": {},
   "outputs": [
    {
     "name": "stdout",
     "output_type": "stream",
     "text": [
      "It : 92 | P = 6.00 W | L = 1.00 mH \n"
     ]
    }
   ],
   "source": [
    "print(f\"It : {len(InductanceList)} | P = {LossList[-1]:.2f} W | L = {InductanceList[-1]*1e3 :.2f} mH \")"
   ]
  }
 ],
 "metadata": {
  "kernelspec": {
   "display_name": "ngsolve-env",
   "language": "python",
   "name": "python3"
  },
  "language_info": {
   "codemirror_mode": {
    "name": "ipython",
    "version": 3
   },
   "file_extension": ".py",
   "mimetype": "text/x-python",
   "name": "python",
   "nbconvert_exporter": "python",
   "pygments_lexer": "ipython3",
   "version": "3.13.1"
  }
 },
 "nbformat": 4,
 "nbformat_minor": 5
}
